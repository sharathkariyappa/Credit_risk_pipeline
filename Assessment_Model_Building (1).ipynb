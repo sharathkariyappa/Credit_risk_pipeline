{
  "nbformat": 4,
  "nbformat_minor": 0,
  "metadata": {
    "colab": {
      "provenance": [],
      "collapsed_sections": []
    },
    "kernelspec": {
      "name": "python3",
      "display_name": "Python 3"
    },
    "language_info": {
      "name": "python"
    },
    "accelerator": "GPU",
    "gpuClass": "standard"
  },
  "cells": [
    {
      "cell_type": "markdown",
      "source": [
        "# **Creating model of Machine Learning **"
      ],
      "metadata": {
        "id": "8mhpHXnN87Tm"
      }
    },
    {
      "cell_type": "code",
      "execution_count": 1,
      "metadata": {
        "id": "wIi03S4injqo"
      },
      "outputs": [],
      "source": [
        "# importing all libraries \n",
        "\n",
        "import pandas as pd\n",
        "import numpy as np\n",
        "import matplotlib.pyplot as plt\n"
      ]
    },
    {
      "cell_type": "markdown",
      "source": [
        "# **Importing data sets Loan & Applicant and merge on applicant id to better view**"
      ],
      "metadata": {
        "id": "dd4mtURv9efP"
      }
    },
    {
      "cell_type": "code",
      "source": [
        "Loan=pd.read_csv(\"/content/loan.csv\")\n",
        "Applicant=pd.read_csv(\"/content/applicant.csv\")\n",
        "\n",
        "data=pd.merge(Loan,Applicant,on='applicant_id')\n",
        "data.head()"
      ],
      "metadata": {
        "colab": {
          "base_uri": "https://localhost:8080/",
          "height": 473
        },
        "id": "zi3olUBHnysD",
        "outputId": "05bb7e50-b0a4-4c09-b857-9aba0f2d57ba"
      },
      "execution_count": 2,
      "outputs": [
        {
          "output_type": "execute_result",
          "data": {
            "text/plain": [
              "                    loan_application_id  applicant_id  Months_loan_taken_for  \\\n",
              "0  d68d975e-edad-11ea-8761-1d6f9c1ff461       1469590                      6   \n",
              "1  d68d989e-edad-11ea-b1d5-2bcf65006448       1203873                     48   \n",
              "2  d68d995c-edad-11ea-814a-1b6716782575       1432761                     12   \n",
              "3  d68d99fc-edad-11ea-8841-17e8848060ae       1207582                     42   \n",
              "4  d68d9a92-edad-11ea-9f3d-1f8682db006a       1674436                     24   \n",
              "\n",
              "                Purpose  Principal_loan_amount  \\\n",
              "0  electronic equipment                1169000   \n",
              "1  electronic equipment                5951000   \n",
              "2             education                2096000   \n",
              "3                  FF&E                7882000   \n",
              "4           new vehicle                4870000   \n",
              "\n",
              "   EMI_rate_in_percentage_of_disposable_income  \\\n",
              "0                                            4   \n",
              "1                                            2   \n",
              "2                                            2   \n",
              "3                                            2   \n",
              "4                                            3   \n",
              "\n",
              "                                            Property  Has_coapplicant  \\\n",
              "0                                        real estate                0   \n",
              "1                                        real estate                0   \n",
              "2                                        real estate                0   \n",
              "3  building society savings agreement/life insurance                0   \n",
              "4                                                NaN                0   \n",
              "\n",
              "   Has_guarantor Other_EMI_plans  ...   Housing Years_at_current_residence  \\\n",
              "0              0             NaN  ...       own                          4   \n",
              "1              0             NaN  ...       own                          2   \n",
              "2              0             NaN  ...       own                          3   \n",
              "3              1             NaN  ...  for free                          4   \n",
              "4              0             NaN  ...  for free                          4   \n",
              "\n",
              "             Employment_status  Has_been_employed_for_at_least  \\\n",
              "0  skilled employee / official                         7 years   \n",
              "1  skilled employee / official                          1 year   \n",
              "2         unskilled - resident                         4 years   \n",
              "3  skilled employee / official                         4 years   \n",
              "4  skilled employee / official                          1 year   \n",
              "\n",
              "  Has_been_employed_for_at_most                              Telephone  \\\n",
              "0                           NaN  Registered under the applicant's name   \n",
              "1                       4 years                                    NaN   \n",
              "2                       7 years                                    NaN   \n",
              "3                       7 years                                    NaN   \n",
              "4                       4 years                                    NaN   \n",
              "\n",
              "   Foreign_worker Savings_account_balance  \\\n",
              "0               1                     NaN   \n",
              "1               1                     Low   \n",
              "2               1                     Low   \n",
              "3               1                     Low   \n",
              "4               1                     Low   \n",
              "\n",
              "   Balance_in_existing_bank_account_(lower_limit_of_bucket)  \\\n",
              "0                                                NaN          \n",
              "1                                                  0          \n",
              "2                                                NaN          \n",
              "3                                                NaN          \n",
              "4                                                NaN          \n",
              "\n",
              "  Balance_in_existing_bank_account_(upper_limit_of_bucket)  \n",
              "0                                                  0        \n",
              "1                                              2 lac        \n",
              "2                                                NaN        \n",
              "3                                                  0        \n",
              "4                                                  0        \n",
              "\n",
              "[5 rows x 27 columns]"
            ],
            "text/html": [
              "\n",
              "  <div id=\"df-bb86cda3-0804-4d09-a7b5-8d2bed83f153\">\n",
              "    <div class=\"colab-df-container\">\n",
              "      <div>\n",
              "<style scoped>\n",
              "    .dataframe tbody tr th:only-of-type {\n",
              "        vertical-align: middle;\n",
              "    }\n",
              "\n",
              "    .dataframe tbody tr th {\n",
              "        vertical-align: top;\n",
              "    }\n",
              "\n",
              "    .dataframe thead th {\n",
              "        text-align: right;\n",
              "    }\n",
              "</style>\n",
              "<table border=\"1\" class=\"dataframe\">\n",
              "  <thead>\n",
              "    <tr style=\"text-align: right;\">\n",
              "      <th></th>\n",
              "      <th>loan_application_id</th>\n",
              "      <th>applicant_id</th>\n",
              "      <th>Months_loan_taken_for</th>\n",
              "      <th>Purpose</th>\n",
              "      <th>Principal_loan_amount</th>\n",
              "      <th>EMI_rate_in_percentage_of_disposable_income</th>\n",
              "      <th>Property</th>\n",
              "      <th>Has_coapplicant</th>\n",
              "      <th>Has_guarantor</th>\n",
              "      <th>Other_EMI_plans</th>\n",
              "      <th>...</th>\n",
              "      <th>Housing</th>\n",
              "      <th>Years_at_current_residence</th>\n",
              "      <th>Employment_status</th>\n",
              "      <th>Has_been_employed_for_at_least</th>\n",
              "      <th>Has_been_employed_for_at_most</th>\n",
              "      <th>Telephone</th>\n",
              "      <th>Foreign_worker</th>\n",
              "      <th>Savings_account_balance</th>\n",
              "      <th>Balance_in_existing_bank_account_(lower_limit_of_bucket)</th>\n",
              "      <th>Balance_in_existing_bank_account_(upper_limit_of_bucket)</th>\n",
              "    </tr>\n",
              "  </thead>\n",
              "  <tbody>\n",
              "    <tr>\n",
              "      <th>0</th>\n",
              "      <td>d68d975e-edad-11ea-8761-1d6f9c1ff461</td>\n",
              "      <td>1469590</td>\n",
              "      <td>6</td>\n",
              "      <td>electronic equipment</td>\n",
              "      <td>1169000</td>\n",
              "      <td>4</td>\n",
              "      <td>real estate</td>\n",
              "      <td>0</td>\n",
              "      <td>0</td>\n",
              "      <td>NaN</td>\n",
              "      <td>...</td>\n",
              "      <td>own</td>\n",
              "      <td>4</td>\n",
              "      <td>skilled employee / official</td>\n",
              "      <td>7 years</td>\n",
              "      <td>NaN</td>\n",
              "      <td>Registered under the applicant's name</td>\n",
              "      <td>1</td>\n",
              "      <td>NaN</td>\n",
              "      <td>NaN</td>\n",
              "      <td>0</td>\n",
              "    </tr>\n",
              "    <tr>\n",
              "      <th>1</th>\n",
              "      <td>d68d989e-edad-11ea-b1d5-2bcf65006448</td>\n",
              "      <td>1203873</td>\n",
              "      <td>48</td>\n",
              "      <td>electronic equipment</td>\n",
              "      <td>5951000</td>\n",
              "      <td>2</td>\n",
              "      <td>real estate</td>\n",
              "      <td>0</td>\n",
              "      <td>0</td>\n",
              "      <td>NaN</td>\n",
              "      <td>...</td>\n",
              "      <td>own</td>\n",
              "      <td>2</td>\n",
              "      <td>skilled employee / official</td>\n",
              "      <td>1 year</td>\n",
              "      <td>4 years</td>\n",
              "      <td>NaN</td>\n",
              "      <td>1</td>\n",
              "      <td>Low</td>\n",
              "      <td>0</td>\n",
              "      <td>2 lac</td>\n",
              "    </tr>\n",
              "    <tr>\n",
              "      <th>2</th>\n",
              "      <td>d68d995c-edad-11ea-814a-1b6716782575</td>\n",
              "      <td>1432761</td>\n",
              "      <td>12</td>\n",
              "      <td>education</td>\n",
              "      <td>2096000</td>\n",
              "      <td>2</td>\n",
              "      <td>real estate</td>\n",
              "      <td>0</td>\n",
              "      <td>0</td>\n",
              "      <td>NaN</td>\n",
              "      <td>...</td>\n",
              "      <td>own</td>\n",
              "      <td>3</td>\n",
              "      <td>unskilled - resident</td>\n",
              "      <td>4 years</td>\n",
              "      <td>7 years</td>\n",
              "      <td>NaN</td>\n",
              "      <td>1</td>\n",
              "      <td>Low</td>\n",
              "      <td>NaN</td>\n",
              "      <td>NaN</td>\n",
              "    </tr>\n",
              "    <tr>\n",
              "      <th>3</th>\n",
              "      <td>d68d99fc-edad-11ea-8841-17e8848060ae</td>\n",
              "      <td>1207582</td>\n",
              "      <td>42</td>\n",
              "      <td>FF&amp;E</td>\n",
              "      <td>7882000</td>\n",
              "      <td>2</td>\n",
              "      <td>building society savings agreement/life insurance</td>\n",
              "      <td>0</td>\n",
              "      <td>1</td>\n",
              "      <td>NaN</td>\n",
              "      <td>...</td>\n",
              "      <td>for free</td>\n",
              "      <td>4</td>\n",
              "      <td>skilled employee / official</td>\n",
              "      <td>4 years</td>\n",
              "      <td>7 years</td>\n",
              "      <td>NaN</td>\n",
              "      <td>1</td>\n",
              "      <td>Low</td>\n",
              "      <td>NaN</td>\n",
              "      <td>0</td>\n",
              "    </tr>\n",
              "    <tr>\n",
              "      <th>4</th>\n",
              "      <td>d68d9a92-edad-11ea-9f3d-1f8682db006a</td>\n",
              "      <td>1674436</td>\n",
              "      <td>24</td>\n",
              "      <td>new vehicle</td>\n",
              "      <td>4870000</td>\n",
              "      <td>3</td>\n",
              "      <td>NaN</td>\n",
              "      <td>0</td>\n",
              "      <td>0</td>\n",
              "      <td>NaN</td>\n",
              "      <td>...</td>\n",
              "      <td>for free</td>\n",
              "      <td>4</td>\n",
              "      <td>skilled employee / official</td>\n",
              "      <td>1 year</td>\n",
              "      <td>4 years</td>\n",
              "      <td>NaN</td>\n",
              "      <td>1</td>\n",
              "      <td>Low</td>\n",
              "      <td>NaN</td>\n",
              "      <td>0</td>\n",
              "    </tr>\n",
              "  </tbody>\n",
              "</table>\n",
              "<p>5 rows × 27 columns</p>\n",
              "</div>\n",
              "      <button class=\"colab-df-convert\" onclick=\"convertToInteractive('df-bb86cda3-0804-4d09-a7b5-8d2bed83f153')\"\n",
              "              title=\"Convert this dataframe to an interactive table.\"\n",
              "              style=\"display:none;\">\n",
              "        \n",
              "  <svg xmlns=\"http://www.w3.org/2000/svg\" height=\"24px\"viewBox=\"0 0 24 24\"\n",
              "       width=\"24px\">\n",
              "    <path d=\"M0 0h24v24H0V0z\" fill=\"none\"/>\n",
              "    <path d=\"M18.56 5.44l.94 2.06.94-2.06 2.06-.94-2.06-.94-.94-2.06-.94 2.06-2.06.94zm-11 1L8.5 8.5l.94-2.06 2.06-.94-2.06-.94L8.5 2.5l-.94 2.06-2.06.94zm10 10l.94 2.06.94-2.06 2.06-.94-2.06-.94-.94-2.06-.94 2.06-2.06.94z\"/><path d=\"M17.41 7.96l-1.37-1.37c-.4-.4-.92-.59-1.43-.59-.52 0-1.04.2-1.43.59L10.3 9.45l-7.72 7.72c-.78.78-.78 2.05 0 2.83L4 21.41c.39.39.9.59 1.41.59.51 0 1.02-.2 1.41-.59l7.78-7.78 2.81-2.81c.8-.78.8-2.07 0-2.86zM5.41 20L4 18.59l7.72-7.72 1.47 1.35L5.41 20z\"/>\n",
              "  </svg>\n",
              "      </button>\n",
              "      \n",
              "  <style>\n",
              "    .colab-df-container {\n",
              "      display:flex;\n",
              "      flex-wrap:wrap;\n",
              "      gap: 12px;\n",
              "    }\n",
              "\n",
              "    .colab-df-convert {\n",
              "      background-color: #E8F0FE;\n",
              "      border: none;\n",
              "      border-radius: 50%;\n",
              "      cursor: pointer;\n",
              "      display: none;\n",
              "      fill: #1967D2;\n",
              "      height: 32px;\n",
              "      padding: 0 0 0 0;\n",
              "      width: 32px;\n",
              "    }\n",
              "\n",
              "    .colab-df-convert:hover {\n",
              "      background-color: #E2EBFA;\n",
              "      box-shadow: 0px 1px 2px rgba(60, 64, 67, 0.3), 0px 1px 3px 1px rgba(60, 64, 67, 0.15);\n",
              "      fill: #174EA6;\n",
              "    }\n",
              "\n",
              "    [theme=dark] .colab-df-convert {\n",
              "      background-color: #3B4455;\n",
              "      fill: #D2E3FC;\n",
              "    }\n",
              "\n",
              "    [theme=dark] .colab-df-convert:hover {\n",
              "      background-color: #434B5C;\n",
              "      box-shadow: 0px 1px 3px 1px rgba(0, 0, 0, 0.15);\n",
              "      filter: drop-shadow(0px 1px 2px rgba(0, 0, 0, 0.3));\n",
              "      fill: #FFFFFF;\n",
              "    }\n",
              "  </style>\n",
              "\n",
              "      <script>\n",
              "        const buttonEl =\n",
              "          document.querySelector('#df-bb86cda3-0804-4d09-a7b5-8d2bed83f153 button.colab-df-convert');\n",
              "        buttonEl.style.display =\n",
              "          google.colab.kernel.accessAllowed ? 'block' : 'none';\n",
              "\n",
              "        async function convertToInteractive(key) {\n",
              "          const element = document.querySelector('#df-bb86cda3-0804-4d09-a7b5-8d2bed83f153');\n",
              "          const dataTable =\n",
              "            await google.colab.kernel.invokeFunction('convertToInteractive',\n",
              "                                                     [key], {});\n",
              "          if (!dataTable) return;\n",
              "\n",
              "          const docLinkHtml = 'Like what you see? Visit the ' +\n",
              "            '<a target=\"_blank\" href=https://colab.research.google.com/notebooks/data_table.ipynb>data table notebook</a>'\n",
              "            + ' to learn more about interactive tables.';\n",
              "          element.innerHTML = '';\n",
              "          dataTable['output_type'] = 'display_data';\n",
              "          await google.colab.output.renderOutput(dataTable, element);\n",
              "          const docLink = document.createElement('div');\n",
              "          docLink.innerHTML = docLinkHtml;\n",
              "          element.appendChild(docLink);\n",
              "        }\n",
              "      </script>\n",
              "    </div>\n",
              "  </div>\n",
              "  "
            ]
          },
          "metadata": {},
          "execution_count": 2
        }
      ]
    },
    {
      "cell_type": "markdown",
      "source": [
        "# **we have columns which have high missing values and also independent from target column so we need to drop them**"
      ],
      "metadata": {
        "id": "cez70mli9scb"
      }
    },
    {
      "cell_type": "code",
      "source": [
        "data=data.drop(['Telephone','Other_EMI_plans'],axis=1)\n",
        "\n"
      ],
      "metadata": {
        "id": "1Y0qcYqHnyup"
      },
      "execution_count": 3,
      "outputs": []
    },
    {
      "cell_type": "markdown",
      "source": [
        "# **fill missing values of categorical variables by mode to better understanding**"
      ],
      "metadata": {
        "id": "b-l_n6XS98X9"
      }
    },
    {
      "cell_type": "code",
      "source": [
        "data['Purpose']=data['Purpose'].replace(np.nan,data['Purpose'].mode()[0])  \n",
        "data['Property']=data['Property'].replace(np.nan,data['Property'].mode()[0])\n",
        "data['Has_been_employed_for_at_least']=data['Has_been_employed_for_at_least'].replace(np.nan,data['Has_been_employed_for_at_least'].mode()[0])\n",
        "data['Has_been_employed_for_at_most']=data['Has_been_employed_for_at_most'].replace(np.nan,data['Has_been_employed_for_at_most'].mode()[0])\n",
        "data['Savings_account_balance']=data['Savings_account_balance'].replace(np.nan,data['Savings_account_balance'].mode()[0])\n",
        "data['Balance_in_existing_bank_account_(lower_limit_of_bucket)']=data['Balance_in_existing_bank_account_(lower_limit_of_bucket)'].replace(np.nan,data['Balance_in_existing_bank_account_(lower_limit_of_bucket)'].mode()[0])\n",
        "data['Balance_in_existing_bank_account_(upper_limit_of_bucket)']=data['Balance_in_existing_bank_account_(upper_limit_of_bucket)'].replace(np.nan,data['Balance_in_existing_bank_account_(upper_limit_of_bucket)'].mode()[0])"
      ],
      "metadata": {
        "id": "R19L-o6iQIjF"
      },
      "execution_count": 4,
      "outputs": []
    },
    {
      "cell_type": "markdown",
      "source": [
        "# **Convert categorical column to dummie because of training data**"
      ],
      "metadata": {
        "id": "Vip5kmRZ-dO9"
      }
    },
    {
      "cell_type": "code",
      "source": [
        "def one_hot_encoder(df, nan_as_category = False):\n",
        "    original_columns = list(df.columns)\n",
        "    categorical_columns = [col for col in df.columns if df[col].dtype == 'object']\n",
        "    df = pd.get_dummies(df, columns= categorical_columns, dummy_na= nan_as_category, drop_first=True)\n",
        "    new_columns = [c for c in df.columns if c not in original_columns]\n",
        "    return df, new_columns"
      ],
      "metadata": {
        "id": "puSjwSpQQIgW"
      },
      "execution_count": 5,
      "outputs": []
    },
    {
      "cell_type": "code",
      "source": [
        "\n",
        "#Purpose to Dummies Variable\n",
        "\n",
        "data = data.merge(pd.get_dummies(data['Purpose'], drop_first=True, prefix='Purpose'), left_index=True, right_index=True)\n",
        "\n",
        "#Gender feature in dummies\n",
        "data = data.merge(pd.get_dummies(data['Gender'], drop_first=True, prefix='Gender'), left_index=True, right_index=True)\n",
        "\n",
        "# Housing get dummies\n",
        "data = data.merge(pd.get_dummies(data['Housing'], drop_first=True, prefix='Housing'), left_index=True, right_index=True)\n",
        "\n",
        "# Housing get Saving Accounts\n",
        "data = data.merge(pd.get_dummies(data[\"Savings_account_balance\"], drop_first=True, prefix='Savings'), left_index=True, right_index=True)\n",
        "\n",
        "# Property  to Dummies variable\n",
        "data= data.merge(pd.get_dummies(data['Property'], prefix='Property'), left_index=True, right_index=True)\n",
        "\n",
        "# Employment Status\n",
        "data= data.merge(pd.get_dummies(data['Employment_status'], prefix='Employment_status'), left_index=True, right_index=True)\n",
        "\n",
        "# marital Status\n",
        "data= data.merge(pd.get_dummies(data['Marital_status'], prefix='Marital_status'), left_index=True, right_index=True)\n",
        "\n",
        "# \n"
      ],
      "metadata": {
        "id": "S_jnPUeRQIdN"
      },
      "execution_count": 6,
      "outputs": []
    },
    {
      "cell_type": "code",
      "source": [
        "data.head()"
      ],
      "metadata": {
        "colab": {
          "base_uri": "https://localhost:8080/",
          "height": 473
        },
        "id": "UEeJgGPjQIau",
        "outputId": "05716ed9-3d7b-4926-8241-364b003069c1"
      },
      "execution_count": 7,
      "outputs": [
        {
          "output_type": "execute_result",
          "data": {
            "text/plain": [
              "                    loan_application_id  applicant_id  Months_loan_taken_for  \\\n",
              "0  d68d975e-edad-11ea-8761-1d6f9c1ff461       1469590                      6   \n",
              "1  d68d989e-edad-11ea-b1d5-2bcf65006448       1203873                     48   \n",
              "2  d68d995c-edad-11ea-814a-1b6716782575       1432761                     12   \n",
              "3  d68d99fc-edad-11ea-8841-17e8848060ae       1207582                     42   \n",
              "4  d68d9a92-edad-11ea-9f3d-1f8682db006a       1674436                     24   \n",
              "\n",
              "                Purpose  Principal_loan_amount  \\\n",
              "0  electronic equipment                1169000   \n",
              "1  electronic equipment                5951000   \n",
              "2             education                2096000   \n",
              "3                  FF&E                7882000   \n",
              "4           new vehicle                4870000   \n",
              "\n",
              "   EMI_rate_in_percentage_of_disposable_income  \\\n",
              "0                                            4   \n",
              "1                                            2   \n",
              "2                                            2   \n",
              "3                                            2   \n",
              "4                                            3   \n",
              "\n",
              "                                            Property  Has_coapplicant  \\\n",
              "0                                        real estate                0   \n",
              "1                                        real estate                0   \n",
              "2                                        real estate                0   \n",
              "3  building society savings agreement/life insurance                0   \n",
              "4                                       car or other                0   \n",
              "\n",
              "   Has_guarantor  Number_of_existing_loans_at_this_bank  ...  \\\n",
              "0              0                                      2  ...   \n",
              "1              0                                      1  ...   \n",
              "2              0                                      1  ...   \n",
              "3              1                                      1  ...   \n",
              "4              0                                      2  ...   \n",
              "\n",
              "  Property_car or other  Property_real estate  \\\n",
              "0                     0                     1   \n",
              "1                     0                     1   \n",
              "2                     0                     1   \n",
              "3                     0                     0   \n",
              "4                     1                     0   \n",
              "\n",
              "   Employment_status_management / self-employed / highly qualified employee / officer  \\\n",
              "0                                                  0                                    \n",
              "1                                                  0                                    \n",
              "2                                                  0                                    \n",
              "3                                                  0                                    \n",
              "4                                                  0                                    \n",
              "\n",
              "  Employment_status_skilled employee / official  \\\n",
              "0                                             1   \n",
              "1                                             1   \n",
              "2                                             0   \n",
              "3                                             1   \n",
              "4                                             1   \n",
              "\n",
              "  Employment_status_unemployed / unskilled - non-resident  \\\n",
              "0                                                  0        \n",
              "1                                                  0        \n",
              "2                                                  0        \n",
              "3                                                  0        \n",
              "4                                                  0        \n",
              "\n",
              "   Employment_status_unskilled - resident Marital_status_divorced/separated  \\\n",
              "0                                       0                                 0   \n",
              "1                                       0                                 0   \n",
              "2                                       1                                 0   \n",
              "3                                       0                                 0   \n",
              "4                                       0                                 0   \n",
              "\n",
              "   Marital_status_divorced/separated/married Marital_status_married/widowed  \\\n",
              "0                                          0                              0   \n",
              "1                                          1                              0   \n",
              "2                                          0                              0   \n",
              "3                                          0                              0   \n",
              "4                                          0                              0   \n",
              "\n",
              "  Marital_status_single  \n",
              "0                     1  \n",
              "1                     0  \n",
              "2                     1  \n",
              "3                     1  \n",
              "4                     1  \n",
              "\n",
              "[5 rows x 50 columns]"
            ],
            "text/html": [
              "\n",
              "  <div id=\"df-93013582-0b1b-455c-98bb-a74dd69dcd03\">\n",
              "    <div class=\"colab-df-container\">\n",
              "      <div>\n",
              "<style scoped>\n",
              "    .dataframe tbody tr th:only-of-type {\n",
              "        vertical-align: middle;\n",
              "    }\n",
              "\n",
              "    .dataframe tbody tr th {\n",
              "        vertical-align: top;\n",
              "    }\n",
              "\n",
              "    .dataframe thead th {\n",
              "        text-align: right;\n",
              "    }\n",
              "</style>\n",
              "<table border=\"1\" class=\"dataframe\">\n",
              "  <thead>\n",
              "    <tr style=\"text-align: right;\">\n",
              "      <th></th>\n",
              "      <th>loan_application_id</th>\n",
              "      <th>applicant_id</th>\n",
              "      <th>Months_loan_taken_for</th>\n",
              "      <th>Purpose</th>\n",
              "      <th>Principal_loan_amount</th>\n",
              "      <th>EMI_rate_in_percentage_of_disposable_income</th>\n",
              "      <th>Property</th>\n",
              "      <th>Has_coapplicant</th>\n",
              "      <th>Has_guarantor</th>\n",
              "      <th>Number_of_existing_loans_at_this_bank</th>\n",
              "      <th>...</th>\n",
              "      <th>Property_car or other</th>\n",
              "      <th>Property_real estate</th>\n",
              "      <th>Employment_status_management / self-employed / highly qualified employee / officer</th>\n",
              "      <th>Employment_status_skilled employee / official</th>\n",
              "      <th>Employment_status_unemployed / unskilled - non-resident</th>\n",
              "      <th>Employment_status_unskilled - resident</th>\n",
              "      <th>Marital_status_divorced/separated</th>\n",
              "      <th>Marital_status_divorced/separated/married</th>\n",
              "      <th>Marital_status_married/widowed</th>\n",
              "      <th>Marital_status_single</th>\n",
              "    </tr>\n",
              "  </thead>\n",
              "  <tbody>\n",
              "    <tr>\n",
              "      <th>0</th>\n",
              "      <td>d68d975e-edad-11ea-8761-1d6f9c1ff461</td>\n",
              "      <td>1469590</td>\n",
              "      <td>6</td>\n",
              "      <td>electronic equipment</td>\n",
              "      <td>1169000</td>\n",
              "      <td>4</td>\n",
              "      <td>real estate</td>\n",
              "      <td>0</td>\n",
              "      <td>0</td>\n",
              "      <td>2</td>\n",
              "      <td>...</td>\n",
              "      <td>0</td>\n",
              "      <td>1</td>\n",
              "      <td>0</td>\n",
              "      <td>1</td>\n",
              "      <td>0</td>\n",
              "      <td>0</td>\n",
              "      <td>0</td>\n",
              "      <td>0</td>\n",
              "      <td>0</td>\n",
              "      <td>1</td>\n",
              "    </tr>\n",
              "    <tr>\n",
              "      <th>1</th>\n",
              "      <td>d68d989e-edad-11ea-b1d5-2bcf65006448</td>\n",
              "      <td>1203873</td>\n",
              "      <td>48</td>\n",
              "      <td>electronic equipment</td>\n",
              "      <td>5951000</td>\n",
              "      <td>2</td>\n",
              "      <td>real estate</td>\n",
              "      <td>0</td>\n",
              "      <td>0</td>\n",
              "      <td>1</td>\n",
              "      <td>...</td>\n",
              "      <td>0</td>\n",
              "      <td>1</td>\n",
              "      <td>0</td>\n",
              "      <td>1</td>\n",
              "      <td>0</td>\n",
              "      <td>0</td>\n",
              "      <td>0</td>\n",
              "      <td>1</td>\n",
              "      <td>0</td>\n",
              "      <td>0</td>\n",
              "    </tr>\n",
              "    <tr>\n",
              "      <th>2</th>\n",
              "      <td>d68d995c-edad-11ea-814a-1b6716782575</td>\n",
              "      <td>1432761</td>\n",
              "      <td>12</td>\n",
              "      <td>education</td>\n",
              "      <td>2096000</td>\n",
              "      <td>2</td>\n",
              "      <td>real estate</td>\n",
              "      <td>0</td>\n",
              "      <td>0</td>\n",
              "      <td>1</td>\n",
              "      <td>...</td>\n",
              "      <td>0</td>\n",
              "      <td>1</td>\n",
              "      <td>0</td>\n",
              "      <td>0</td>\n",
              "      <td>0</td>\n",
              "      <td>1</td>\n",
              "      <td>0</td>\n",
              "      <td>0</td>\n",
              "      <td>0</td>\n",
              "      <td>1</td>\n",
              "    </tr>\n",
              "    <tr>\n",
              "      <th>3</th>\n",
              "      <td>d68d99fc-edad-11ea-8841-17e8848060ae</td>\n",
              "      <td>1207582</td>\n",
              "      <td>42</td>\n",
              "      <td>FF&amp;E</td>\n",
              "      <td>7882000</td>\n",
              "      <td>2</td>\n",
              "      <td>building society savings agreement/life insurance</td>\n",
              "      <td>0</td>\n",
              "      <td>1</td>\n",
              "      <td>1</td>\n",
              "      <td>...</td>\n",
              "      <td>0</td>\n",
              "      <td>0</td>\n",
              "      <td>0</td>\n",
              "      <td>1</td>\n",
              "      <td>0</td>\n",
              "      <td>0</td>\n",
              "      <td>0</td>\n",
              "      <td>0</td>\n",
              "      <td>0</td>\n",
              "      <td>1</td>\n",
              "    </tr>\n",
              "    <tr>\n",
              "      <th>4</th>\n",
              "      <td>d68d9a92-edad-11ea-9f3d-1f8682db006a</td>\n",
              "      <td>1674436</td>\n",
              "      <td>24</td>\n",
              "      <td>new vehicle</td>\n",
              "      <td>4870000</td>\n",
              "      <td>3</td>\n",
              "      <td>car or other</td>\n",
              "      <td>0</td>\n",
              "      <td>0</td>\n",
              "      <td>2</td>\n",
              "      <td>...</td>\n",
              "      <td>1</td>\n",
              "      <td>0</td>\n",
              "      <td>0</td>\n",
              "      <td>1</td>\n",
              "      <td>0</td>\n",
              "      <td>0</td>\n",
              "      <td>0</td>\n",
              "      <td>0</td>\n",
              "      <td>0</td>\n",
              "      <td>1</td>\n",
              "    </tr>\n",
              "  </tbody>\n",
              "</table>\n",
              "<p>5 rows × 50 columns</p>\n",
              "</div>\n",
              "      <button class=\"colab-df-convert\" onclick=\"convertToInteractive('df-93013582-0b1b-455c-98bb-a74dd69dcd03')\"\n",
              "              title=\"Convert this dataframe to an interactive table.\"\n",
              "              style=\"display:none;\">\n",
              "        \n",
              "  <svg xmlns=\"http://www.w3.org/2000/svg\" height=\"24px\"viewBox=\"0 0 24 24\"\n",
              "       width=\"24px\">\n",
              "    <path d=\"M0 0h24v24H0V0z\" fill=\"none\"/>\n",
              "    <path d=\"M18.56 5.44l.94 2.06.94-2.06 2.06-.94-2.06-.94-.94-2.06-.94 2.06-2.06.94zm-11 1L8.5 8.5l.94-2.06 2.06-.94-2.06-.94L8.5 2.5l-.94 2.06-2.06.94zm10 10l.94 2.06.94-2.06 2.06-.94-2.06-.94-.94-2.06-.94 2.06-2.06.94z\"/><path d=\"M17.41 7.96l-1.37-1.37c-.4-.4-.92-.59-1.43-.59-.52 0-1.04.2-1.43.59L10.3 9.45l-7.72 7.72c-.78.78-.78 2.05 0 2.83L4 21.41c.39.39.9.59 1.41.59.51 0 1.02-.2 1.41-.59l7.78-7.78 2.81-2.81c.8-.78.8-2.07 0-2.86zM5.41 20L4 18.59l7.72-7.72 1.47 1.35L5.41 20z\"/>\n",
              "  </svg>\n",
              "      </button>\n",
              "      \n",
              "  <style>\n",
              "    .colab-df-container {\n",
              "      display:flex;\n",
              "      flex-wrap:wrap;\n",
              "      gap: 12px;\n",
              "    }\n",
              "\n",
              "    .colab-df-convert {\n",
              "      background-color: #E8F0FE;\n",
              "      border: none;\n",
              "      border-radius: 50%;\n",
              "      cursor: pointer;\n",
              "      display: none;\n",
              "      fill: #1967D2;\n",
              "      height: 32px;\n",
              "      padding: 0 0 0 0;\n",
              "      width: 32px;\n",
              "    }\n",
              "\n",
              "    .colab-df-convert:hover {\n",
              "      background-color: #E2EBFA;\n",
              "      box-shadow: 0px 1px 2px rgba(60, 64, 67, 0.3), 0px 1px 3px 1px rgba(60, 64, 67, 0.15);\n",
              "      fill: #174EA6;\n",
              "    }\n",
              "\n",
              "    [theme=dark] .colab-df-convert {\n",
              "      background-color: #3B4455;\n",
              "      fill: #D2E3FC;\n",
              "    }\n",
              "\n",
              "    [theme=dark] .colab-df-convert:hover {\n",
              "      background-color: #434B5C;\n",
              "      box-shadow: 0px 1px 3px 1px rgba(0, 0, 0, 0.15);\n",
              "      filter: drop-shadow(0px 1px 2px rgba(0, 0, 0, 0.3));\n",
              "      fill: #FFFFFF;\n",
              "    }\n",
              "  </style>\n",
              "\n",
              "      <script>\n",
              "        const buttonEl =\n",
              "          document.querySelector('#df-93013582-0b1b-455c-98bb-a74dd69dcd03 button.colab-df-convert');\n",
              "        buttonEl.style.display =\n",
              "          google.colab.kernel.accessAllowed ? 'block' : 'none';\n",
              "\n",
              "        async function convertToInteractive(key) {\n",
              "          const element = document.querySelector('#df-93013582-0b1b-455c-98bb-a74dd69dcd03');\n",
              "          const dataTable =\n",
              "            await google.colab.kernel.invokeFunction('convertToInteractive',\n",
              "                                                     [key], {});\n",
              "          if (!dataTable) return;\n",
              "\n",
              "          const docLinkHtml = 'Like what you see? Visit the ' +\n",
              "            '<a target=\"_blank\" href=https://colab.research.google.com/notebooks/data_table.ipynb>data table notebook</a>'\n",
              "            + ' to learn more about interactive tables.';\n",
              "          element.innerHTML = '';\n",
              "          dataTable['output_type'] = 'display_data';\n",
              "          await google.colab.output.renderOutput(dataTable, element);\n",
              "          const docLink = document.createElement('div');\n",
              "          docLink.innerHTML = docLinkHtml;\n",
              "          element.appendChild(docLink);\n",
              "        }\n",
              "      </script>\n",
              "    </div>\n",
              "  </div>\n",
              "  "
            ]
          },
          "metadata": {},
          "execution_count": 7
        }
      ]
    },
    {
      "cell_type": "markdown",
      "source": [
        "# ***Delet original categorical type of columns ***"
      ],
      "metadata": {
        "id": "tzQJbhyM-vph"
      }
    },
    {
      "cell_type": "code",
      "source": [
        "#Excluding the missing columns\n",
        "del data[\"Savings_account_balance\"]\n",
        "del data[\"Property\"]\n",
        "del data[\"Gender\"]\n",
        "del data[\"Employment_status\"]\n",
        "del data[\"Marital_status\"]\n"
      ],
      "metadata": {
        "id": "emEbgF7TQIXy"
      },
      "execution_count": 8,
      "outputs": []
    },
    {
      "cell_type": "code",
      "source": [
        "del data[\"Purpose\"]"
      ],
      "metadata": {
        "id": "VPWniOqGQILD"
      },
      "execution_count": 9,
      "outputs": []
    },
    {
      "cell_type": "markdown",
      "source": [
        "# **Loan application Id is not required for training so we drop it**"
      ],
      "metadata": {
        "id": "zVid09p7_BU3"
      }
    },
    {
      "cell_type": "code",
      "source": [
        "data=data.drop(['loan_application_id'],axis=1)\n"
      ],
      "metadata": {
        "id": "BwJpMq4SQIGA"
      },
      "execution_count": 10,
      "outputs": []
    },
    {
      "cell_type": "markdown",
      "source": [
        "# **again onehot coding of some remaining column to get best accuracy**"
      ],
      "metadata": {
        "id": "e0whEJMX_Oub"
      }
    },
    {
      "cell_type": "code",
      "source": [
        "# Loan history\n",
        "data= data.merge(pd.get_dummies(data['Loan_history'], prefix='Loan_history'), left_index=True, right_index=True)\n",
        "\n",
        "# has been employed for least\n",
        "data=data.merge(pd.get_dummies(data['Has_been_employed_for_at_least'],prefix='Has_been_employed_for_at_least'),left_index=True,right_index=True)\n",
        "\n",
        "#has been emplyed for most\n",
        "data=data.merge(pd.get_dummies(data['Has_been_employed_for_at_most'],prefix='Has_been_employed_for_at_most'),left_index=True,right_index=True)\n",
        "\n"
      ],
      "metadata": {
        "id": "aaHcQZ2Shbwu"
      },
      "execution_count": 11,
      "outputs": []
    },
    {
      "cell_type": "code",
      "source": [
        "data=data.drop(['Balance_in_existing_bank_account_(lower_limit_of_bucket)','Balance_in_existing_bank_account_(upper_limit_of_bucket)'],axis=1)\n"
      ],
      "metadata": {
        "id": "hHnzn5N3hbfE"
      },
      "execution_count": 12,
      "outputs": []
    },
    {
      "cell_type": "markdown",
      "source": [
        "# **again we delet orinal categorical columns in data set**"
      ],
      "metadata": {
        "id": "1lnrA8wV_atu"
      }
    },
    {
      "cell_type": "code",
      "source": [
        "del data['Housing']"
      ],
      "metadata": {
        "id": "r-He4XtOkpHK"
      },
      "execution_count": 13,
      "outputs": []
    },
    {
      "cell_type": "code",
      "source": [
        "del data['Loan_history']\n",
        "del data['Has_been_employed_for_at_least']\n",
        "del data['Has_been_employed_for_at_most']"
      ],
      "metadata": {
        "id": "9NRs0L5gk8cP"
      },
      "execution_count": 14,
      "outputs": []
    },
    {
      "cell_type": "code",
      "source": [
        "data.info()"
      ],
      "metadata": {
        "colab": {
          "base_uri": "https://localhost:8080/"
        },
        "id": "WpYsr0Uinywz",
        "outputId": "405adf7f-0894-401a-af5e-0fa317cf10f4"
      },
      "execution_count": 15,
      "outputs": [
        {
          "output_type": "stream",
          "name": "stdout",
          "text": [
            "<class 'pandas.core.frame.DataFrame'>\n",
            "Int64Index: 1000 entries, 0 to 999\n",
            "Data columns (total 50 columns):\n",
            " #   Column                                                                              Non-Null Count  Dtype\n",
            "---  ------                                                                              --------------  -----\n",
            " 0   applicant_id                                                                        1000 non-null   int64\n",
            " 1   Months_loan_taken_for                                                               1000 non-null   int64\n",
            " 2   Principal_loan_amount                                                               1000 non-null   int64\n",
            " 3   EMI_rate_in_percentage_of_disposable_income                                         1000 non-null   int64\n",
            " 4   Has_coapplicant                                                                     1000 non-null   int64\n",
            " 5   Has_guarantor                                                                       1000 non-null   int64\n",
            " 6   Number_of_existing_loans_at_this_bank                                               1000 non-null   int64\n",
            " 7   high_risk_applicant                                                                 1000 non-null   int64\n",
            " 8   Primary_applicant_age_in_years                                                      1000 non-null   int64\n",
            " 9   Number_of_dependents                                                                1000 non-null   int64\n",
            " 10  Years_at_current_residence                                                          1000 non-null   int64\n",
            " 11  Foreign_worker                                                                      1000 non-null   int64\n",
            " 12  Purpose_business                                                                    1000 non-null   uint8\n",
            " 13  Purpose_career development                                                          1000 non-null   uint8\n",
            " 14  Purpose_domestic appliances                                                         1000 non-null   uint8\n",
            " 15  Purpose_education                                                                   1000 non-null   uint8\n",
            " 16  Purpose_electronic equipment                                                        1000 non-null   uint8\n",
            " 17  Purpose_new vehicle                                                                 1000 non-null   uint8\n",
            " 18  Purpose_repair costs                                                                1000 non-null   uint8\n",
            " 19  Purpose_used vehicle                                                                1000 non-null   uint8\n",
            " 20  Gender_male                                                                         1000 non-null   uint8\n",
            " 21  Housing_own                                                                         1000 non-null   uint8\n",
            " 22  Housing_rent                                                                        1000 non-null   uint8\n",
            " 23  Savings_Low                                                                         1000 non-null   uint8\n",
            " 24  Savings_Medium                                                                      1000 non-null   uint8\n",
            " 25  Savings_Very high                                                                   1000 non-null   uint8\n",
            " 26  Property_building society savings agreement/life insurance                          1000 non-null   uint8\n",
            " 27  Property_car or other                                                               1000 non-null   uint8\n",
            " 28  Property_real estate                                                                1000 non-null   uint8\n",
            " 29  Employment_status_management / self-employed / highly qualified employee / officer  1000 non-null   uint8\n",
            " 30  Employment_status_skilled employee / official                                       1000 non-null   uint8\n",
            " 31  Employment_status_unemployed / unskilled - non-resident                             1000 non-null   uint8\n",
            " 32  Employment_status_unskilled - resident                                              1000 non-null   uint8\n",
            " 33  Marital_status_divorced/separated                                                   1000 non-null   uint8\n",
            " 34  Marital_status_divorced/separated/married                                           1000 non-null   uint8\n",
            " 35  Marital_status_married/widowed                                                      1000 non-null   uint8\n",
            " 36  Marital_status_single                                                               1000 non-null   uint8\n",
            " 37  Loan_history_all loans at this bank paid back duly                                  1000 non-null   uint8\n",
            " 38  Loan_history_critical/pending loans at other banks                                  1000 non-null   uint8\n",
            " 39  Loan_history_delay in paying off loans in the past                                  1000 non-null   uint8\n",
            " 40  Loan_history_existing loans paid back duly till now                                 1000 non-null   uint8\n",
            " 41  Loan_history_no loans taken/all loans paid back duly                                1000 non-null   uint8\n",
            " 42  Has_been_employed_for_at_least_0 year                                               1000 non-null   uint8\n",
            " 43  Has_been_employed_for_at_least_1 year                                               1000 non-null   uint8\n",
            " 44  Has_been_employed_for_at_least_4 years                                              1000 non-null   uint8\n",
            " 45  Has_been_employed_for_at_least_7 years                                              1000 non-null   uint8\n",
            " 46  Has_been_employed_for_at_most_0 year                                                1000 non-null   uint8\n",
            " 47  Has_been_employed_for_at_most_1 year                                                1000 non-null   uint8\n",
            " 48  Has_been_employed_for_at_most_4 years                                               1000 non-null   uint8\n",
            " 49  Has_been_employed_for_at_most_7 years                                               1000 non-null   uint8\n",
            "dtypes: int64(12), uint8(38)\n",
            "memory usage: 171.0 KB\n"
          ]
        }
      ]
    },
    {
      "cell_type": "markdown",
      "source": [
        "# **creating x variable to train and test data**"
      ],
      "metadata": {
        "id": "JH-yVLDp_pyh"
      }
    },
    {
      "cell_type": "code",
      "source": [
        "x=data.drop(['high_risk_applicant'],axis=1)\n"
      ],
      "metadata": {
        "id": "viiQWMElny_w"
      },
      "execution_count": 16,
      "outputs": []
    },
    {
      "cell_type": "markdown",
      "source": [
        "# **creating y variable to train and test data**"
      ],
      "metadata": {
        "id": "vd-kxzVt_upU"
      }
    },
    {
      "cell_type": "code",
      "source": [
        "y=data['high_risk_applicant']\n"
      ],
      "metadata": {
        "id": "ka-yGbUFnzDP"
      },
      "execution_count": 17,
      "outputs": []
    },
    {
      "cell_type": "markdown",
      "source": [
        "# **importing train test split function from sklearn to split data**"
      ],
      "metadata": {
        "id": "0fCD-HuJ_5xC"
      }
    },
    {
      "cell_type": "code",
      "source": [
        "from sklearn.model_selection import train_test_split\n",
        "x_train,x_test,y_train,y_test=train_test_split(x,y,test_size=0.2,random_state=42)\n"
      ],
      "metadata": {
        "id": "BpJ9BuFDl34s"
      },
      "execution_count": 18,
      "outputs": []
    },
    {
      "cell_type": "markdown",
      "source": [
        "# **importing all Machine learning algorithms and models for building model and validation**"
      ],
      "metadata": {
        "id": "_pTOFG4yAFPs"
      }
    },
    {
      "cell_type": "code",
      "source": [
        "from sklearn.ensemble import RandomForestClassifier\n",
        "from sklearn.linear_model import LogisticRegression\n",
        "from sklearn.tree import DecisionTreeClassifier\n",
        "from xgboost import XGBClassifier\n",
        "from sklearn.model_selection import  KFold, cross_val_score\n"
      ],
      "metadata": {
        "id": "c7K2b-bhD93o"
      },
      "execution_count": 19,
      "outputs": []
    },
    {
      "cell_type": "markdown",
      "source": [
        "# **Preparing models that suits best for our data set**"
      ],
      "metadata": {
        "id": "btq_g79VA3sO"
      }
    },
    {
      "cell_type": "code",
      "source": [
        "# prepare models\n",
        "models = []\n",
        "models.append(('LR', LogisticRegression()))\n",
        "models.append(('CART', DecisionTreeClassifier()))\n",
        "models.append(('RF', RandomForestClassifier()))\n",
        "models.append(('XGB', XGBClassifier()))\n",
        "\n",
        "# evaluate each model in turn\n",
        "results = []\n",
        "names = []\n",
        "scoring = 'recall'\n",
        "\n",
        "for name, model in models:\n",
        "        kfold = KFold(n_splits=10, random_state=None)\n",
        "        cv_results = cross_val_score(model, x_train, y_train, cv=kfold, scoring=scoring)\n",
        "        results.append(cv_results)\n",
        "        names.append(name)\n",
        "        msg = \"%s: %f (%f)\" % (name, cv_results.mean(), cv_results.std())\n",
        "        print(msg)\n",
        "        "
      ],
      "metadata": {
        "colab": {
          "base_uri": "https://localhost:8080/"
        },
        "id": "imXyDULhDGMH",
        "outputId": "9e0edec3-5116-40b0-d5c1-1eebac45a819"
      },
      "execution_count": 20,
      "outputs": [
        {
          "output_type": "stream",
          "name": "stdout",
          "text": [
            "LR: 0.062372 (0.047491)\n",
            "CART: 0.401396 (0.104438)\n",
            "RF: 0.245730 (0.063438)\n",
            "XGB: 0.316777 (0.072564)\n"
          ]
        }
      ]
    },
    {
      "cell_type": "markdown",
      "source": [
        "# we get good results from DescionTreeClassifier and XGboostClassifier"
      ],
      "metadata": {
        "id": "wFPY_BJEBA4l"
      }
    },
    {
      "cell_type": "markdown",
      "source": [
        "# **To understand in btter way we plot boxplot to show results**"
      ],
      "metadata": {
        "id": "DTxOBimyBadY"
      }
    },
    {
      "cell_type": "code",
      "source": [
        "fig = plt.figure(figsize=(11,6))\n",
        "fig.suptitle('Algorithm Comparison')\n",
        "ax = fig.add_subplot(111)\n",
        "plt.boxplot(results)\n",
        "ax.set_xticklabels(names)\n",
        "plt.show()"
      ],
      "metadata": {
        "colab": {
          "base_uri": "https://localhost:8080/",
          "height": 417
        },
        "id": "DtHz9IORFqHx",
        "outputId": "14952727-c2c7-4ebf-cbb7-84a1c52866d4"
      },
      "execution_count": 21,
      "outputs": [
        {
          "output_type": "display_data",
          "data": {
            "text/plain": [
              "<Figure size 792x432 with 1 Axes>"
            ],
            "image/png": "[encoded data removed]"
          },
          "metadata": {
            "needs_background": "light"
          }
        }
      ]
    },
    {
      "cell_type": "markdown",
      "source": [
        "\n",
        "DescionClassifer Algorithm and XGboosterClassifier shows better results we can use this and do some tuning."
      ],
      "metadata": {
        "id": "xCVMeAq8GK0b"
      }
    },
    {
      "cell_type": "markdown",
      "source": [
        "# **Using Random Forest to predictict the score and Some of Validation Parameters**\n"
      ],
      "metadata": {
        "id": "QQj18RFvBp2I"
      }
    },
    {
      "cell_type": "code",
      "source": [
        "#Seting the Hyper Parameters\n",
        "\n",
        "from sklearn.model_selection import GridSearchCV\n",
        "param_grid = {\"max_depth\": [3,5, 7, 10,None],\n",
        "              \"n_estimators\":[3,5,10,25,50,150],\n",
        "              \"max_features\": [4,7,15,20]}\n",
        "\n",
        "#Creating the classifier\n",
        "\n",
        "model = RandomForestClassifier(random_state=2)\n",
        "\n",
        "grid_search = GridSearchCV(model, param_grid=param_grid, cv=5, scoring='recall', verbose=4)\n",
        "grid_search.fit(x_train, y_train)"
      ],
      "metadata": {
        "colab": {
          "base_uri": "https://localhost:8080/"
        },
        "id": "RDOujBH63oGu",
        "outputId": "06192bbd-7b4a-495a-ffb2-92f683e5222f"
      },
      "execution_count": 22,
      "outputs": [
        {
          "output_type": "stream",
          "name": "stdout",
          "text": [
            "Fitting 5 folds for each of 120 candidates, totalling 600 fits\n",
            "[CV 1/5] END max_depth=3, max_features=4, n_estimators=3;, score=0.041 total time=   0.0s\n",
            "[CV 2/5] END max_depth=3, max_features=4, n_estimators=3;, score=0.021 total time=   0.0s\n",
            "[CV 3/5] END max_depth=3, max_features=4, n_estimators=3;, score=0.083 total time=   0.0s\n",
            "[CV 4/5] END max_depth=3, max_features=4, n_estimators=3;, score=0.125 total time=   0.0s\n",
            "[CV 5/5] END max_depth=3, max_features=4, n_estimators=3;, score=0.125 total time=   0.0s\n",
            "[CV 1/5] END max_depth=3, max_features=4, n_estimators=5;, score=0.061 total time=   0.0s\n",
            "[CV 2/5] END max_depth=3, max_features=4, n_estimators=5;, score=0.021 total time=   0.0s\n",
            "[CV 3/5] END max_depth=3, max_features=4, n_estimators=5;, score=0.021 total time=   0.0s\n",
            "[CV 4/5] END max_depth=3, max_features=4, n_estimators=5;, score=0.104 total time=   0.0s\n",
            "[CV 5/5] END max_depth=3, max_features=4, n_estimators=5;, score=0.062 total time=   0.0s\n",
            "[CV 1/5] END max_depth=3, max_features=4, n_estimators=10;, score=0.020 total time=   0.0s\n",
            "[CV 2/5] END max_depth=3, max_features=4, n_estimators=10;, score=0.021 total time=   0.0s\n",
            "[CV 3/5] END max_depth=3, max_features=4, n_estimators=10;, score=0.021 total time=   0.0s\n",
            "[CV 4/5] END max_depth=3, max_features=4, n_estimators=10;, score=0.042 total time=   0.0s\n",
            "[CV 5/5] END max_depth=3, max_features=4, n_estimators=10;, score=0.000 total time=   0.0s\n",
            "[CV 1/5] END max_depth=3, max_features=4, n_estimators=25;, score=0.000 total time=   0.1s\n",
            "[CV 2/5] END max_depth=3, max_features=4, n_estimators=25;, score=0.000 total time=   0.0s\n",
            "[CV 3/5] END max_depth=3, max_features=4, n_estimators=25;, score=0.000 total time=   0.1s\n",
            "[CV 4/5] END max_depth=3, max_features=4, n_estimators=25;, score=0.021 total time=   0.0s\n",
            "[CV 5/5] END max_depth=3, max_features=4, n_estimators=25;, score=0.000 total time=   0.0s\n",
            "[CV 1/5] END max_depth=3, max_features=4, n_estimators=50;, score=0.000 total time=   0.1s\n",
            "[CV 2/5] END max_depth=3, max_features=4, n_estimators=50;, score=0.000 total time=   0.1s\n",
            "[CV 3/5] END max_depth=3, max_features=4, n_estimators=50;, score=0.000 total time=   0.1s\n",
            "[CV 4/5] END max_depth=3, max_features=4, n_estimators=50;, score=0.021 total time=   0.1s\n",
            "[CV 5/5] END max_depth=3, max_features=4, n_estimators=50;, score=0.000 total time=   0.1s\n",
            "[CV 1/5] END max_depth=3, max_features=4, n_estimators=150;, score=0.000 total time=   0.2s\n",
            "[CV 2/5] END max_depth=3, max_features=4, n_estimators=150;, score=0.021 total time=   0.2s\n",
            "[CV 3/5] END max_depth=3, max_features=4, n_estimators=150;, score=0.000 total time=   0.2s\n",
            "[CV 4/5] END max_depth=3, max_features=4, n_estimators=150;, score=0.000 total time=   0.2s\n",
            "[CV 5/5] END max_depth=3, max_features=4, n_estimators=150;, score=0.000 total time=   0.2s\n",
            "[CV 1/5] END max_depth=3, max_features=7, n_estimators=3;, score=0.020 total time=   0.0s\n",
            "[CV 2/5] END max_depth=3, max_features=7, n_estimators=3;, score=0.062 total time=   0.0s\n",
            "[CV 3/5] END max_depth=3, max_features=7, n_estimators=3;, score=0.104 total time=   0.0s\n",
            "[CV 4/5] END max_depth=3, max_features=7, n_estimators=3;, score=0.146 total time=   0.0s\n",
            "[CV 5/5] END max_depth=3, max_features=7, n_estimators=3;, score=0.083 total time=   0.0s\n",
            "[CV 1/5] END max_depth=3, max_features=7, n_estimators=5;, score=0.020 total time=   0.0s\n",
            "[CV 2/5] END max_depth=3, max_features=7, n_estimators=5;, score=0.104 total time=   0.0s\n",
            "[CV 3/5] END max_depth=3, max_features=7, n_estimators=5;, score=0.021 total time=   0.0s\n",
            "[CV 4/5] END max_depth=3, max_features=7, n_estimators=5;, score=0.125 total time=   0.0s\n",
            "[CV 5/5] END max_depth=3, max_features=7, n_estimators=5;, score=0.000 total time=   0.0s\n",
            "[CV 1/5] END max_depth=3, max_features=7, n_estimators=10;, score=0.020 total time=   0.0s\n",
            "[CV 2/5] END max_depth=3, max_features=7, n_estimators=10;, score=0.042 total time=   0.0s\n",
            "[CV 3/5] END max_depth=3, max_features=7, n_estimators=10;, score=0.000 total time=   0.0s\n",
            "[CV 4/5] END max_depth=3, max_features=7, n_estimators=10;, score=0.062 total time=   0.0s\n",
            "[CV 5/5] END max_depth=3, max_features=7, n_estimators=10;, score=0.000 total time=   0.0s\n",
            "[CV 1/5] END max_depth=3, max_features=7, n_estimators=25;, score=0.020 total time=   0.1s\n",
            "[CV 2/5] END max_depth=3, max_features=7, n_estimators=25;, score=0.021 total time=   0.0s\n",
            "[CV 3/5] END max_depth=3, max_features=7, n_estimators=25;, score=0.021 total time=   0.0s\n",
            "[CV 4/5] END max_depth=3, max_features=7, n_estimators=25;, score=0.042 total time=   0.0s\n",
            "[CV 5/5] END max_depth=3, max_features=7, n_estimators=25;, score=0.062 total time=   0.0s\n",
            "[CV 1/5] END max_depth=3, max_features=7, n_estimators=50;, score=0.020 total time=   0.1s\n",
            "[CV 2/5] END max_depth=3, max_features=7, n_estimators=50;, score=0.042 total time=   0.1s\n",
            "[CV 3/5] END max_depth=3, max_features=7, n_estimators=50;, score=0.000 total time=   0.1s\n",
            "[CV 4/5] END max_depth=3, max_features=7, n_estimators=50;, score=0.021 total time=   0.1s\n",
            "[CV 5/5] END max_depth=3, max_features=7, n_estimators=50;, score=0.000 total time=   0.1s\n",
            "[CV 1/5] END max_depth=3, max_features=7, n_estimators=150;, score=0.000 total time=   0.2s\n",
            "[CV 2/5] END max_depth=3, max_features=7, n_estimators=150;, score=0.021 total time=   0.3s\n",
            "[CV 3/5] END max_depth=3, max_features=7, n_estimators=150;, score=0.000 total time=   0.2s\n",
            "[CV 4/5] END max_depth=3, max_features=7, n_estimators=150;, score=0.021 total time=   0.2s\n",
            "[CV 5/5] END max_depth=3, max_features=7, n_estimators=150;, score=0.021 total time=   0.2s\n",
            "[CV 1/5] END max_depth=3, max_features=15, n_estimators=3;, score=0.122 total time=   0.0s\n",
            "[CV 2/5] END max_depth=3, max_features=15, n_estimators=3;, score=0.083 total time=   0.0s\n",
            "[CV 3/5] END max_depth=3, max_features=15, n_estimators=3;, score=0.146 total time=   0.0s\n",
            "[CV 4/5] END max_depth=3, max_features=15, n_estimators=3;, score=0.104 total time=   0.0s\n",
            "[CV 5/5] END max_depth=3, max_features=15, n_estimators=3;, score=0.083 total time=   0.0s\n",
            "[CV 1/5] END max_depth=3, max_features=15, n_estimators=5;, score=0.143 total time=   0.0s\n",
            "[CV 2/5] END max_depth=3, max_features=15, n_estimators=5;, score=0.042 total time=   0.0s\n",
            "[CV 3/5] END max_depth=3, max_features=15, n_estimators=5;, score=0.125 total time=   0.0s\n",
            "[CV 4/5] END max_depth=3, max_features=15, n_estimators=5;, score=0.062 total time=   0.0s\n",
            "[CV 5/5] END max_depth=3, max_features=15, n_estimators=5;, score=0.062 total time=   0.0s\n",
            "[CV 1/5] END max_depth=3, max_features=15, n_estimators=10;, score=0.082 total time=   0.0s\n",
            "[CV 2/5] END max_depth=3, max_features=15, n_estimators=10;, score=0.062 total time=   0.0s\n",
            "[CV 3/5] END max_depth=3, max_features=15, n_estimators=10;, score=0.104 total time=   0.0s\n",
            "[CV 4/5] END max_depth=3, max_features=15, n_estimators=10;, score=0.062 total time=   0.0s\n",
            "[CV 5/5] END max_depth=3, max_features=15, n_estimators=10;, score=0.083 total time=   0.0s\n",
            "[CV 1/5] END max_depth=3, max_features=15, n_estimators=25;, score=0.102 total time=   0.1s\n",
            "[CV 2/5] END max_depth=3, max_features=15, n_estimators=25;, score=0.062 total time=   0.0s\n",
            "[CV 3/5] END max_depth=3, max_features=15, n_estimators=25;, score=0.021 total time=   0.1s\n",
            "[CV 4/5] END max_depth=3, max_features=15, n_estimators=25;, score=0.062 total time=   0.1s\n",
            "[CV 5/5] END max_depth=3, max_features=15, n_estimators=25;, score=0.104 total time=   0.1s\n",
            "[CV 1/5] END max_depth=3, max_features=15, n_estimators=50;, score=0.082 total time=   0.1s\n",
            "[CV 2/5] END max_depth=3, max_features=15, n_estimators=50;, score=0.042 total time=   0.1s\n",
            "[CV 3/5] END max_depth=3, max_features=15, n_estimators=50;, score=0.062 total time=   0.1s\n",
            "[CV 4/5] END max_depth=3, max_features=15, n_estimators=50;, score=0.042 total time=   0.1s\n",
            "[CV 5/5] END max_depth=3, max_features=15, n_estimators=50;, score=0.083 total time=   0.1s\n",
            "[CV 1/5] END max_depth=3, max_features=15, n_estimators=150;, score=0.061 total time=   0.3s\n",
            "[CV 2/5] END max_depth=3, max_features=15, n_estimators=150;, score=0.104 total time=   0.3s\n",
            "[CV 3/5] END max_depth=3, max_features=15, n_estimators=150;, score=0.042 total time=   0.3s\n",
            "[CV 4/5] END max_depth=3, max_features=15, n_estimators=150;, score=0.021 total time=   0.3s\n",
            "[CV 5/5] END max_depth=3, max_features=15, n_estimators=150;, score=0.062 total time=   0.3s\n",
            "[CV 1/5] END max_depth=3, max_features=20, n_estimators=3;, score=0.163 total time=   0.0s\n",
            "[CV 2/5] END max_depth=3, max_features=20, n_estimators=3;, score=0.125 total time=   0.0s\n",
            "[CV 3/5] END max_depth=3, max_features=20, n_estimators=3;, score=0.146 total time=   0.0s\n",
            "[CV 4/5] END max_depth=3, max_features=20, n_estimators=3;, score=0.104 total time=   0.0s\n",
            "[CV 5/5] END max_depth=3, max_features=20, n_estimators=3;, score=0.167 total time=   0.0s\n",
            "[CV 1/5] END max_depth=3, max_features=20, n_estimators=5;, score=0.102 total time=   0.0s\n",
            "[CV 2/5] END max_depth=3, max_features=20, n_estimators=5;, score=0.125 total time=   0.0s\n",
            "[CV 3/5] END max_depth=3, max_features=20, n_estimators=5;, score=0.104 total time=   0.0s\n",
            "[CV 4/5] END max_depth=3, max_features=20, n_estimators=5;, score=0.125 total time=   0.0s\n",
            "[CV 5/5] END max_depth=3, max_features=20, n_estimators=5;, score=0.146 total time=   0.0s\n",
            "[CV 1/5] END max_depth=3, max_features=20, n_estimators=10;, score=0.184 total time=   0.0s\n",
            "[CV 2/5] END max_depth=3, max_features=20, n_estimators=10;, score=0.104 total time=   0.0s\n",
            "[CV 3/5] END max_depth=3, max_features=20, n_estimators=10;, score=0.062 total time=   0.0s\n",
            "[CV 4/5] END max_depth=3, max_features=20, n_estimators=10;, score=0.083 total time=   0.0s\n",
            "[CV 5/5] END max_depth=3, max_features=20, n_estimators=10;, score=0.125 total time=   0.0s\n",
            "[CV 1/5] END max_depth=3, max_features=20, n_estimators=25;, score=0.102 total time=   0.1s\n",
            "[CV 2/5] END max_depth=3, max_features=20, n_estimators=25;, score=0.104 total time=   0.1s\n",
            "[CV 3/5] END max_depth=3, max_features=20, n_estimators=25;, score=0.104 total time=   0.1s\n",
            "[CV 4/5] END max_depth=3, max_features=20, n_estimators=25;, score=0.042 total time=   0.1s\n",
            "[CV 5/5] END max_depth=3, max_features=20, n_estimators=25;, score=0.104 total time=   0.1s\n",
            "[CV 1/5] END max_depth=3, max_features=20, n_estimators=50;, score=0.102 total time=   0.1s\n",
            "[CV 2/5] END max_depth=3, max_features=20, n_estimators=50;, score=0.104 total time=   0.1s\n",
            "[CV 3/5] END max_depth=3, max_features=20, n_estimators=50;, score=0.083 total time=   0.1s\n",
            "[CV 4/5] END max_depth=3, max_features=20, n_estimators=50;, score=0.062 total time=   0.1s\n",
            "[CV 5/5] END max_depth=3, max_features=20, n_estimators=50;, score=0.104 total time=   0.1s\n",
            "[CV 1/5] END max_depth=3, max_features=20, n_estimators=150;, score=0.082 total time=   0.3s\n",
            "[CV 2/5] END max_depth=3, max_features=20, n_estimators=150;, score=0.104 total time=   0.3s\n",
            "[CV 3/5] END max_depth=3, max_features=20, n_estimators=150;, score=0.104 total time=   0.3s\n",
            "[CV 4/5] END max_depth=3, max_features=20, n_estimators=150;, score=0.062 total time=   0.3s\n",
            "[CV 5/5] END max_depth=3, max_features=20, n_estimators=150;, score=0.083 total time=   0.3s\n",
            "[CV 1/5] END max_depth=5, max_features=4, n_estimators=3;, score=0.143 total time=   0.0s\n",
            "[CV 2/5] END max_depth=5, max_features=4, n_estimators=3;, score=0.021 total time=   0.0s\n",
            "[CV 3/5] END max_depth=5, max_features=4, n_estimators=3;, score=0.021 total time=   0.0s\n",
            "[CV 4/5] END max_depth=5, max_features=4, n_estimators=3;, score=0.312 total time=   0.0s\n",
            "[CV 5/5] END max_depth=5, max_features=4, n_estimators=3;, score=0.167 total time=   0.0s\n",
            "[CV 1/5] END max_depth=5, max_features=4, n_estimators=5;, score=0.102 total time=   0.0s\n",
            "[CV 2/5] END max_depth=5, max_features=4, n_estimators=5;, score=0.042 total time=   0.0s\n",
            "[CV 3/5] END max_depth=5, max_features=4, n_estimators=5;, score=0.042 total time=   0.0s\n",
            "[CV 4/5] END max_depth=5, max_features=4, n_estimators=5;, score=0.208 total time=   0.0s\n",
            "[CV 5/5] END max_depth=5, max_features=4, n_estimators=5;, score=0.125 total time=   0.0s\n",
            "[CV 1/5] END max_depth=5, max_features=4, n_estimators=10;, score=0.102 total time=   0.0s\n",
            "[CV 2/5] END max_depth=5, max_features=4, n_estimators=10;, score=0.062 total time=   0.0s\n",
            "[CV 3/5] END max_depth=5, max_features=4, n_estimators=10;, score=0.062 total time=   0.0s\n",
            "[CV 4/5] END max_depth=5, max_features=4, n_estimators=10;, score=0.188 total time=   0.0s\n",
            "[CV 5/5] END max_depth=5, max_features=4, n_estimators=10;, score=0.042 total time=   0.0s\n",
            "[CV 1/5] END max_depth=5, max_features=4, n_estimators=25;, score=0.061 total time=   0.0s\n",
            "[CV 2/5] END max_depth=5, max_features=4, n_estimators=25;, score=0.042 total time=   0.1s\n",
            "[CV 3/5] END max_depth=5, max_features=4, n_estimators=25;, score=0.042 total time=   0.0s\n",
            "[CV 4/5] END max_depth=5, max_features=4, n_estimators=25;, score=0.146 total time=   0.1s\n",
            "[CV 5/5] END max_depth=5, max_features=4, n_estimators=25;, score=0.021 total time=   0.0s\n",
            "[CV 1/5] END max_depth=5, max_features=4, n_estimators=50;, score=0.041 total time=   0.1s\n",
            "[CV 2/5] END max_depth=5, max_features=4, n_estimators=50;, score=0.042 total time=   0.1s\n",
            "[CV 3/5] END max_depth=5, max_features=4, n_estimators=50;, score=0.042 total time=   0.1s\n",
            "[CV 4/5] END max_depth=5, max_features=4, n_estimators=50;, score=0.104 total time=   0.1s\n",
            "[CV 5/5] END max_depth=5, max_features=4, n_estimators=50;, score=0.021 total time=   0.1s\n",
            "[CV 1/5] END max_depth=5, max_features=4, n_estimators=150;, score=0.041 total time=   0.2s\n",
            "[CV 2/5] END max_depth=5, max_features=4, n_estimators=150;, score=0.062 total time=   0.2s\n",
            "[CV 3/5] END max_depth=5, max_features=4, n_estimators=150;, score=0.042 total time=   0.3s\n",
            "[CV 4/5] END max_depth=5, max_features=4, n_estimators=150;, score=0.021 total time=   0.2s\n",
            "[CV 5/5] END max_depth=5, max_features=4, n_estimators=150;, score=0.000 total time=   0.2s\n",
            "[CV 1/5] END max_depth=5, max_features=7, n_estimators=3;, score=0.102 total time=   0.0s\n",
            "[CV 2/5] END max_depth=5, max_features=7, n_estimators=3;, score=0.104 total time=   0.0s\n",
            "[CV 3/5] END max_depth=5, max_features=7, n_estimators=3;, score=0.167 total time=   0.0s\n",
            "[CV 4/5] END max_depth=5, max_features=7, n_estimators=3;, score=0.104 total time=   0.0s\n",
            "[CV 5/5] END max_depth=5, max_features=7, n_estimators=3;, score=0.125 total time=   0.0s\n",
            "[CV 1/5] END max_depth=5, max_features=7, n_estimators=5;, score=0.204 total time=   0.0s\n",
            "[CV 2/5] END max_depth=5, max_features=7, n_estimators=5;, score=0.104 total time=   0.0s\n",
            "[CV 3/5] END max_depth=5, max_features=7, n_estimators=5;, score=0.083 total time=   0.0s\n",
            "[CV 4/5] END max_depth=5, max_features=7, n_estimators=5;, score=0.146 total time=   0.0s\n",
            "[CV 5/5] END max_depth=5, max_features=7, n_estimators=5;, score=0.083 total time=   0.0s\n",
            "[CV 1/5] END max_depth=5, max_features=7, n_estimators=10;, score=0.102 total time=   0.0s\n",
            "[CV 2/5] END max_depth=5, max_features=7, n_estimators=10;, score=0.125 total time=   0.0s\n",
            "[CV 3/5] END max_depth=5, max_features=7, n_estimators=10;, score=0.188 total time=   0.0s\n",
            "[CV 4/5] END max_depth=5, max_features=7, n_estimators=10;, score=0.062 total time=   0.0s\n",
            "[CV 5/5] END max_depth=5, max_features=7, n_estimators=10;, score=0.146 total time=   0.0s\n",
            "[CV 1/5] END max_depth=5, max_features=7, n_estimators=25;, score=0.082 total time=   0.1s\n",
            "[CV 2/5] END max_depth=5, max_features=7, n_estimators=25;, score=0.167 total time=   0.0s\n",
            "[CV 3/5] END max_depth=5, max_features=7, n_estimators=25;, score=0.188 total time=   0.1s\n",
            "[CV 4/5] END max_depth=5, max_features=7, n_estimators=25;, score=0.083 total time=   0.0s\n",
            "[CV 5/5] END max_depth=5, max_features=7, n_estimators=25;, score=0.042 total time=   0.0s\n",
            "[CV 1/5] END max_depth=5, max_features=7, n_estimators=50;, score=0.061 total time=   0.1s\n",
            "[CV 2/5] END max_depth=5, max_features=7, n_estimators=50;, score=0.083 total time=   0.1s\n",
            "[CV 3/5] END max_depth=5, max_features=7, n_estimators=50;, score=0.146 total time=   0.1s\n",
            "[CV 4/5] END max_depth=5, max_features=7, n_estimators=50;, score=0.083 total time=   0.1s\n",
            "[CV 5/5] END max_depth=5, max_features=7, n_estimators=50;, score=0.042 total time=   0.1s\n",
            "[CV 1/5] END max_depth=5, max_features=7, n_estimators=150;, score=0.020 total time=   0.2s\n",
            "[CV 2/5] END max_depth=5, max_features=7, n_estimators=150;, score=0.042 total time=   0.3s\n",
            "[CV 3/5] END max_depth=5, max_features=7, n_estimators=150;, score=0.062 total time=   0.3s\n",
            "[CV 4/5] END max_depth=5, max_features=7, n_estimators=150;, score=0.104 total time=   0.3s\n",
            "[CV 5/5] END max_depth=5, max_features=7, n_estimators=150;, score=0.062 total time=   0.3s\n",
            "[CV 1/5] END max_depth=5, max_features=15, n_estimators=3;, score=0.306 total time=   0.0s\n",
            "[CV 2/5] END max_depth=5, max_features=15, n_estimators=3;, score=0.167 total time=   0.0s\n",
            "[CV 3/5] END max_depth=5, max_features=15, n_estimators=3;, score=0.146 total time=   0.0s\n",
            "[CV 4/5] END max_depth=5, max_features=15, n_estimators=3;, score=0.208 total time=   0.0s\n",
            "[CV 5/5] END max_depth=5, max_features=15, n_estimators=3;, score=0.229 total time=   0.0s\n",
            "[CV 1/5] END max_depth=5, max_features=15, n_estimators=5;, score=0.204 total time=   0.0s\n",
            "[CV 2/5] END max_depth=5, max_features=15, n_estimators=5;, score=0.167 total time=   0.0s\n",
            "[CV 3/5] END max_depth=5, max_features=15, n_estimators=5;, score=0.188 total time=   0.0s\n",
            "[CV 4/5] END max_depth=5, max_features=15, n_estimators=5;, score=0.146 total time=   0.0s\n",
            "[CV 5/5] END max_depth=5, max_features=15, n_estimators=5;, score=0.229 total time=   0.0s\n",
            "[CV 1/5] END max_depth=5, max_features=15, n_estimators=10;, score=0.204 total time=   0.0s\n",
            "[CV 2/5] END max_depth=5, max_features=15, n_estimators=10;, score=0.125 total time=   0.0s\n",
            "[CV 3/5] END max_depth=5, max_features=15, n_estimators=10;, score=0.125 total time=   0.0s\n",
            "[CV 4/5] END max_depth=5, max_features=15, n_estimators=10;, score=0.146 total time=   0.0s\n",
            "[CV 5/5] END max_depth=5, max_features=15, n_estimators=10;, score=0.125 total time=   0.0s\n",
            "[CV 1/5] END max_depth=5, max_features=15, n_estimators=25;, score=0.163 total time=   0.1s\n",
            "[CV 2/5] END max_depth=5, max_features=15, n_estimators=25;, score=0.188 total time=   0.1s\n",
            "[CV 3/5] END max_depth=5, max_features=15, n_estimators=25;, score=0.104 total time=   0.1s\n",
            "[CV 4/5] END max_depth=5, max_features=15, n_estimators=25;, score=0.188 total time=   0.1s\n",
            "[CV 5/5] END max_depth=5, max_features=15, n_estimators=25;, score=0.167 total time=   0.1s\n",
            "[CV 1/5] END max_depth=5, max_features=15, n_estimators=50;, score=0.143 total time=   0.1s\n",
            "[CV 2/5] END max_depth=5, max_features=15, n_estimators=50;, score=0.146 total time=   0.1s\n",
            "[CV 3/5] END max_depth=5, max_features=15, n_estimators=50;, score=0.146 total time=   0.1s\n",
            "[CV 4/5] END max_depth=5, max_features=15, n_estimators=50;, score=0.188 total time=   0.1s\n",
            "[CV 5/5] END max_depth=5, max_features=15, n_estimators=50;, score=0.125 total time=   0.1s\n",
            "[CV 1/5] END max_depth=5, max_features=15, n_estimators=150;, score=0.163 total time=   0.3s\n",
            "[CV 2/5] END max_depth=5, max_features=15, n_estimators=150;, score=0.104 total time=   0.3s\n",
            "[CV 3/5] END max_depth=5, max_features=15, n_estimators=150;, score=0.146 total time=   0.3s\n",
            "[CV 4/5] END max_depth=5, max_features=15, n_estimators=150;, score=0.208 total time=   0.3s\n",
            "[CV 5/5] END max_depth=5, max_features=15, n_estimators=150;, score=0.125 total time=   0.3s\n",
            "[CV 1/5] END max_depth=5, max_features=20, n_estimators=3;, score=0.286 total time=   0.0s\n",
            "[CV 2/5] END max_depth=5, max_features=20, n_estimators=3;, score=0.062 total time=   0.0s\n",
            "[CV 3/5] END max_depth=5, max_features=20, n_estimators=3;, score=0.229 total time=   0.0s\n",
            "[CV 4/5] END max_depth=5, max_features=20, n_estimators=3;, score=0.375 total time=   0.0s\n",
            "[CV 5/5] END max_depth=5, max_features=20, n_estimators=3;, score=0.188 total time=   0.0s\n",
            "[CV 1/5] END max_depth=5, max_features=20, n_estimators=5;, score=0.245 total time=   0.0s\n",
            "[CV 2/5] END max_depth=5, max_features=20, n_estimators=5;, score=0.167 total time=   0.0s\n",
            "[CV 3/5] END max_depth=5, max_features=20, n_estimators=5;, score=0.292 total time=   0.0s\n",
            "[CV 4/5] END max_depth=5, max_features=20, n_estimators=5;, score=0.250 total time=   0.0s\n",
            "[CV 5/5] END max_depth=5, max_features=20, n_estimators=5;, score=0.146 total time=   0.0s\n",
            "[CV 1/5] END max_depth=5, max_features=20, n_estimators=10;, score=0.245 total time=   0.0s\n",
            "[CV 2/5] END max_depth=5, max_features=20, n_estimators=10;, score=0.146 total time=   0.0s\n",
            "[CV 3/5] END max_depth=5, max_features=20, n_estimators=10;, score=0.188 total time=   0.0s\n",
            "[CV 4/5] END max_depth=5, max_features=20, n_estimators=10;, score=0.229 total time=   0.0s\n",
            "[CV 5/5] END max_depth=5, max_features=20, n_estimators=10;, score=0.167 total time=   0.0s\n",
            "[CV 1/5] END max_depth=5, max_features=20, n_estimators=25;, score=0.204 total time=   0.1s\n",
            "[CV 2/5] END max_depth=5, max_features=20, n_estimators=25;, score=0.167 total time=   0.1s\n",
            "[CV 3/5] END max_depth=5, max_features=20, n_estimators=25;, score=0.188 total time=   0.1s\n",
            "[CV 4/5] END max_depth=5, max_features=20, n_estimators=25;, score=0.146 total time=   0.1s\n",
            "[CV 5/5] END max_depth=5, max_features=20, n_estimators=25;, score=0.188 total time=   0.1s\n",
            "[CV 1/5] END max_depth=5, max_features=20, n_estimators=50;, score=0.224 total time=   0.1s\n",
            "[CV 2/5] END max_depth=5, max_features=20, n_estimators=50;, score=0.125 total time=   0.1s\n",
            "[CV 3/5] END max_depth=5, max_features=20, n_estimators=50;, score=0.271 total time=   0.1s\n",
            "[CV 4/5] END max_depth=5, max_features=20, n_estimators=50;, score=0.208 total time=   0.1s\n",
            "[CV 5/5] END max_depth=5, max_features=20, n_estimators=50;, score=0.188 total time=   0.1s\n",
            "[CV 1/5] END max_depth=5, max_features=20, n_estimators=150;, score=0.204 total time=   0.3s\n",
            "[CV 2/5] END max_depth=5, max_features=20, n_estimators=150;, score=0.125 total time=   0.3s\n",
            "[CV 3/5] END max_depth=5, max_features=20, n_estimators=150;, score=0.250 total time=   0.3s\n",
            "[CV 4/5] END max_depth=5, max_features=20, n_estimators=150;, score=0.208 total time=   0.3s\n",
            "[CV 5/5] END max_depth=5, max_features=20, n_estimators=150;, score=0.188 total time=   0.3s\n",
            "[CV 1/5] END max_depth=7, max_features=4, n_estimators=3;, score=0.245 total time=   0.0s\n",
            "[CV 2/5] END max_depth=7, max_features=4, n_estimators=3;, score=0.229 total time=   0.0s\n",
            "[CV 3/5] END max_depth=7, max_features=4, n_estimators=3;, score=0.167 total time=   0.0s\n",
            "[CV 4/5] END max_depth=7, max_features=4, n_estimators=3;, score=0.250 total time=   0.0s\n",
            "[CV 5/5] END max_depth=7, max_features=4, n_estimators=3;, score=0.188 total time=   0.0s\n",
            "[CV 1/5] END max_depth=7, max_features=4, n_estimators=5;, score=0.224 total time=   0.0s\n",
            "[CV 2/5] END max_depth=7, max_features=4, n_estimators=5;, score=0.167 total time=   0.0s\n",
            "[CV 3/5] END max_depth=7, max_features=4, n_estimators=5;, score=0.188 total time=   0.0s\n",
            "[CV 4/5] END max_depth=7, max_features=4, n_estimators=5;, score=0.208 total time=   0.0s\n",
            "[CV 5/5] END max_depth=7, max_features=4, n_estimators=5;, score=0.083 total time=   0.0s\n",
            "[CV 1/5] END max_depth=7, max_features=4, n_estimators=10;, score=0.143 total time=   0.0s\n",
            "[CV 2/5] END max_depth=7, max_features=4, n_estimators=10;, score=0.062 total time=   0.0s\n",
            "[CV 3/5] END max_depth=7, max_features=4, n_estimators=10;, score=0.125 total time=   0.0s\n",
            "[CV 4/5] END max_depth=7, max_features=4, n_estimators=10;, score=0.188 total time=   0.0s\n",
            "[CV 5/5] END max_depth=7, max_features=4, n_estimators=10;, score=0.125 total time=   0.0s\n",
            "[CV 1/5] END max_depth=7, max_features=4, n_estimators=25;, score=0.143 total time=   0.0s\n",
            "[CV 2/5] END max_depth=7, max_features=4, n_estimators=25;, score=0.042 total time=   0.0s\n",
            "[CV 3/5] END max_depth=7, max_features=4, n_estimators=25;, score=0.083 total time=   0.1s\n",
            "[CV 4/5] END max_depth=7, max_features=4, n_estimators=25;, score=0.188 total time=   0.1s\n",
            "[CV 5/5] END max_depth=7, max_features=4, n_estimators=25;, score=0.083 total time=   0.0s\n",
            "[CV 1/5] END max_depth=7, max_features=4, n_estimators=50;, score=0.102 total time=   0.1s\n",
            "[CV 2/5] END max_depth=7, max_features=4, n_estimators=50;, score=0.062 total time=   0.1s\n",
            "[CV 3/5] END max_depth=7, max_features=4, n_estimators=50;, score=0.083 total time=   0.1s\n",
            "[CV 4/5] END max_depth=7, max_features=4, n_estimators=50;, score=0.167 total time=   0.1s\n",
            "[CV 5/5] END max_depth=7, max_features=4, n_estimators=50;, score=0.104 total time=   0.1s\n",
            "[CV 1/5] END max_depth=7, max_features=4, n_estimators=150;, score=0.122 total time=   0.3s\n",
            "[CV 2/5] END max_depth=7, max_features=4, n_estimators=150;, score=0.062 total time=   0.2s\n",
            "[CV 3/5] END max_depth=7, max_features=4, n_estimators=150;, score=0.062 total time=   0.3s\n",
            "[CV 4/5] END max_depth=7, max_features=4, n_estimators=150;, score=0.125 total time=   0.3s\n",
            "[CV 5/5] END max_depth=7, max_features=4, n_estimators=150;, score=0.104 total time=   0.3s\n",
            "[CV 1/5] END max_depth=7, max_features=7, n_estimators=3;, score=0.347 total time=   0.0s\n",
            "[CV 2/5] END max_depth=7, max_features=7, n_estimators=3;, score=0.250 total time=   0.0s\n",
            "[CV 3/5] END max_depth=7, max_features=7, n_estimators=3;, score=0.229 total time=   0.0s\n",
            "[CV 4/5] END max_depth=7, max_features=7, n_estimators=3;, score=0.292 total time=   0.0s\n",
            "[CV 5/5] END max_depth=7, max_features=7, n_estimators=3;, score=0.167 total time=   0.0s\n",
            "[CV 1/5] END max_depth=7, max_features=7, n_estimators=5;, score=0.184 total time=   0.0s\n",
            "[CV 2/5] END max_depth=7, max_features=7, n_estimators=5;, score=0.188 total time=   0.0s\n",
            "[CV 3/5] END max_depth=7, max_features=7, n_estimators=5;, score=0.167 total time=   0.0s\n",
            "[CV 4/5] END max_depth=7, max_features=7, n_estimators=5;, score=0.333 total time=   0.0s\n",
            "[CV 5/5] END max_depth=7, max_features=7, n_estimators=5;, score=0.208 total time=   0.0s\n",
            "[CV 1/5] END max_depth=7, max_features=7, n_estimators=10;, score=0.163 total time=   0.0s\n",
            "[CV 2/5] END max_depth=7, max_features=7, n_estimators=10;, score=0.167 total time=   0.0s\n",
            "[CV 3/5] END max_depth=7, max_features=7, n_estimators=10;, score=0.167 total time=   0.0s\n",
            "[CV 4/5] END max_depth=7, max_features=7, n_estimators=10;, score=0.292 total time=   0.0s\n",
            "[CV 5/5] END max_depth=7, max_features=7, n_estimators=10;, score=0.125 total time=   0.0s\n",
            "[CV 1/5] END max_depth=7, max_features=7, n_estimators=25;, score=0.102 total time=   0.1s\n",
            "[CV 2/5] END max_depth=7, max_features=7, n_estimators=25;, score=0.146 total time=   0.0s\n",
            "[CV 3/5] END max_depth=7, max_features=7, n_estimators=25;, score=0.208 total time=   0.1s\n",
            "[CV 4/5] END max_depth=7, max_features=7, n_estimators=25;, score=0.250 total time=   0.1s\n",
            "[CV 5/5] END max_depth=7, max_features=7, n_estimators=25;, score=0.125 total time=   0.1s\n",
            "[CV 1/5] END max_depth=7, max_features=7, n_estimators=50;, score=0.122 total time=   0.1s\n",
            "[CV 2/5] END max_depth=7, max_features=7, n_estimators=50;, score=0.167 total time=   0.1s\n",
            "[CV 3/5] END max_depth=7, max_features=7, n_estimators=50;, score=0.208 total time=   0.1s\n",
            "[CV 4/5] END max_depth=7, max_features=7, n_estimators=50;, score=0.188 total time=   0.1s\n",
            "[CV 5/5] END max_depth=7, max_features=7, n_estimators=50;, score=0.125 total time=   0.1s\n",
            "[CV 1/5] END max_depth=7, max_features=7, n_estimators=150;, score=0.143 total time=   0.3s\n",
            "[CV 2/5] END max_depth=7, max_features=7, n_estimators=150;, score=0.104 total time=   0.3s\n",
            "[CV 3/5] END max_depth=7, max_features=7, n_estimators=150;, score=0.167 total time=   0.3s\n",
            "[CV 4/5] END max_depth=7, max_features=7, n_estimators=150;, score=0.250 total time=   0.3s\n",
            "[CV 5/5] END max_depth=7, max_features=7, n_estimators=150;, score=0.188 total time=   0.3s\n",
            "[CV 1/5] END max_depth=7, max_features=15, n_estimators=3;, score=0.306 total time=   0.0s\n",
            "[CV 2/5] END max_depth=7, max_features=15, n_estimators=3;, score=0.229 total time=   0.0s\n",
            "[CV 3/5] END max_depth=7, max_features=15, n_estimators=3;, score=0.250 total time=   0.0s\n",
            "[CV 4/5] END max_depth=7, max_features=15, n_estimators=3;, score=0.312 total time=   0.0s\n",
            "[CV 5/5] END max_depth=7, max_features=15, n_estimators=3;, score=0.312 total time=   0.0s\n",
            "[CV 1/5] END max_depth=7, max_features=15, n_estimators=5;, score=0.265 total time=   0.0s\n",
            "[CV 2/5] END max_depth=7, max_features=15, n_estimators=5;, score=0.312 total time=   0.0s\n",
            "[CV 3/5] END max_depth=7, max_features=15, n_estimators=5;, score=0.250 total time=   0.0s\n",
            "[CV 4/5] END max_depth=7, max_features=15, n_estimators=5;, score=0.208 total time=   0.0s\n",
            "[CV 5/5] END max_depth=7, max_features=15, n_estimators=5;, score=0.208 total time=   0.0s\n",
            "[CV 1/5] END max_depth=7, max_features=15, n_estimators=10;, score=0.327 total time=   0.0s\n",
            "[CV 2/5] END max_depth=7, max_features=15, n_estimators=10;, score=0.250 total time=   0.0s\n",
            "[CV 3/5] END max_depth=7, max_features=15, n_estimators=10;, score=0.229 total time=   0.0s\n",
            "[CV 4/5] END max_depth=7, max_features=15, n_estimators=10;, score=0.250 total time=   0.0s\n",
            "[CV 5/5] END max_depth=7, max_features=15, n_estimators=10;, score=0.250 total time=   0.0s\n",
            "[CV 1/5] END max_depth=7, max_features=15, n_estimators=25;, score=0.265 total time=   0.1s\n",
            "[CV 2/5] END max_depth=7, max_features=15, n_estimators=25;, score=0.188 total time=   0.1s\n",
            "[CV 3/5] END max_depth=7, max_features=15, n_estimators=25;, score=0.208 total time=   0.1s\n",
            "[CV 4/5] END max_depth=7, max_features=15, n_estimators=25;, score=0.292 total time=   0.1s\n",
            "[CV 5/5] END max_depth=7, max_features=15, n_estimators=25;, score=0.333 total time=   0.1s\n",
            "[CV 1/5] END max_depth=7, max_features=15, n_estimators=50;, score=0.224 total time=   0.1s\n",
            "[CV 2/5] END max_depth=7, max_features=15, n_estimators=50;, score=0.167 total time=   0.1s\n",
            "[CV 3/5] END max_depth=7, max_features=15, n_estimators=50;, score=0.146 total time=   0.1s\n",
            "[CV 4/5] END max_depth=7, max_features=15, n_estimators=50;, score=0.271 total time=   0.1s\n",
            "[CV 5/5] END max_depth=7, max_features=15, n_estimators=50;, score=0.250 total time=   0.1s\n",
            "[CV 1/5] END max_depth=7, max_features=15, n_estimators=150;, score=0.245 total time=   0.3s\n",
            "[CV 2/5] END max_depth=7, max_features=15, n_estimators=150;, score=0.208 total time=   0.3s\n",
            "[CV 3/5] END max_depth=7, max_features=15, n_estimators=150;, score=0.271 total time=   0.3s\n",
            "[CV 4/5] END max_depth=7, max_features=15, n_estimators=150;, score=0.271 total time=   0.3s\n",
            "[CV 5/5] END max_depth=7, max_features=15, n_estimators=150;, score=0.229 total time=   0.3s\n",
            "[CV 1/5] END max_depth=7, max_features=20, n_estimators=3;, score=0.388 total time=   0.0s\n",
            "[CV 2/5] END max_depth=7, max_features=20, n_estimators=3;, score=0.312 total time=   0.0s\n",
            "[CV 3/5] END max_depth=7, max_features=20, n_estimators=3;, score=0.292 total time=   0.0s\n",
            "[CV 4/5] END max_depth=7, max_features=20, n_estimators=3;, score=0.333 total time=   0.0s\n",
            "[CV 5/5] END max_depth=7, max_features=20, n_estimators=3;, score=0.354 total time=   0.0s\n",
            "[CV 1/5] END max_depth=7, max_features=20, n_estimators=5;, score=0.388 total time=   0.0s\n",
            "[CV 2/5] END max_depth=7, max_features=20, n_estimators=5;, score=0.229 total time=   0.0s\n",
            "[CV 3/5] END max_depth=7, max_features=20, n_estimators=5;, score=0.354 total time=   0.0s\n",
            "[CV 4/5] END max_depth=7, max_features=20, n_estimators=5;, score=0.292 total time=   0.0s\n",
            "[CV 5/5] END max_depth=7, max_features=20, n_estimators=5;, score=0.312 total time=   0.0s\n",
            "[CV 1/5] END max_depth=7, max_features=20, n_estimators=10;, score=0.327 total time=   0.0s\n",
            "[CV 2/5] END max_depth=7, max_features=20, n_estimators=10;, score=0.208 total time=   0.0s\n",
            "[CV 3/5] END max_depth=7, max_features=20, n_estimators=10;, score=0.167 total time=   0.0s\n",
            "[CV 4/5] END max_depth=7, max_features=20, n_estimators=10;, score=0.250 total time=   0.0s\n",
            "[CV 5/5] END max_depth=7, max_features=20, n_estimators=10;, score=0.292 total time=   0.0s\n",
            "[CV 1/5] END max_depth=7, max_features=20, n_estimators=25;, score=0.265 total time=   0.1s\n",
            "[CV 2/5] END max_depth=7, max_features=20, n_estimators=25;, score=0.229 total time=   0.1s\n",
            "[CV 3/5] END max_depth=7, max_features=20, n_estimators=25;, score=0.125 total time=   0.1s\n",
            "[CV 4/5] END max_depth=7, max_features=20, n_estimators=25;, score=0.271 total time=   0.1s\n",
            "[CV 5/5] END max_depth=7, max_features=20, n_estimators=25;, score=0.271 total time=   0.1s\n",
            "[CV 1/5] END max_depth=7, max_features=20, n_estimators=50;, score=0.286 total time=   0.1s\n",
            "[CV 2/5] END max_depth=7, max_features=20, n_estimators=50;, score=0.208 total time=   0.1s\n",
            "[CV 3/5] END max_depth=7, max_features=20, n_estimators=50;, score=0.292 total time=   0.1s\n",
            "[CV 4/5] END max_depth=7, max_features=20, n_estimators=50;, score=0.333 total time=   0.1s\n",
            "[CV 5/5] END max_depth=7, max_features=20, n_estimators=50;, score=0.229 total time=   0.1s\n",
            "[CV 1/5] END max_depth=7, max_features=20, n_estimators=150;, score=0.286 total time=   0.4s\n",
            "[CV 2/5] END max_depth=7, max_features=20, n_estimators=150;, score=0.229 total time=   0.4s\n",
            "[CV 3/5] END max_depth=7, max_features=20, n_estimators=150;, score=0.312 total time=   0.4s\n",
            "[CV 4/5] END max_depth=7, max_features=20, n_estimators=150;, score=0.292 total time=   0.4s\n",
            "[CV 5/5] END max_depth=7, max_features=20, n_estimators=150;, score=0.271 total time=   0.4s\n",
            "[CV 1/5] END max_depth=10, max_features=4, n_estimators=3;, score=0.286 total time=   0.0s\n",
            "[CV 2/5] END max_depth=10, max_features=4, n_estimators=3;, score=0.188 total time=   0.0s\n",
            "[CV 3/5] END max_depth=10, max_features=4, n_estimators=3;, score=0.354 total time=   0.0s\n",
            "[CV 4/5] END max_depth=10, max_features=4, n_estimators=3;, score=0.375 total time=   0.0s\n",
            "[CV 5/5] END max_depth=10, max_features=4, n_estimators=3;, score=0.271 total time=   0.0s\n",
            "[CV 1/5] END max_depth=10, max_features=4, n_estimators=5;, score=0.224 total time=   0.0s\n",
            "[CV 2/5] END max_depth=10, max_features=4, n_estimators=5;, score=0.250 total time=   0.0s\n",
            "[CV 3/5] END max_depth=10, max_features=4, n_estimators=5;, score=0.292 total time=   0.0s\n",
            "[CV 4/5] END max_depth=10, max_features=4, n_estimators=5;, score=0.396 total time=   0.0s\n",
            "[CV 5/5] END max_depth=10, max_features=4, n_estimators=5;, score=0.250 total time=   0.0s\n",
            "[CV 1/5] END max_depth=10, max_features=4, n_estimators=10;, score=0.184 total time=   0.0s\n",
            "[CV 2/5] END max_depth=10, max_features=4, n_estimators=10;, score=0.188 total time=   0.0s\n",
            "[CV 3/5] END max_depth=10, max_features=4, n_estimators=10;, score=0.250 total time=   0.0s\n",
            "[CV 4/5] END max_depth=10, max_features=4, n_estimators=10;, score=0.250 total time=   0.0s\n",
            "[CV 5/5] END max_depth=10, max_features=4, n_estimators=10;, score=0.208 total time=   0.0s\n",
            "[CV 1/5] END max_depth=10, max_features=4, n_estimators=25;, score=0.245 total time=   0.1s\n",
            "[CV 2/5] END max_depth=10, max_features=4, n_estimators=25;, score=0.083 total time=   0.1s\n",
            "[CV 3/5] END max_depth=10, max_features=4, n_estimators=25;, score=0.188 total time=   0.1s\n",
            "[CV 4/5] END max_depth=10, max_features=4, n_estimators=25;, score=0.229 total time=   0.1s\n",
            "[CV 5/5] END max_depth=10, max_features=4, n_estimators=25;, score=0.208 total time=   0.1s\n",
            "[CV 1/5] END max_depth=10, max_features=4, n_estimators=50;, score=0.184 total time=   0.1s\n",
            "[CV 2/5] END max_depth=10, max_features=4, n_estimators=50;, score=0.188 total time=   0.1s\n",
            "[CV 3/5] END max_depth=10, max_features=4, n_estimators=50;, score=0.167 total time=   0.1s\n",
            "[CV 4/5] END max_depth=10, max_features=4, n_estimators=50;, score=0.229 total time=   0.1s\n",
            "[CV 5/5] END max_depth=10, max_features=4, n_estimators=50;, score=0.208 total time=   0.1s\n",
            "[CV 1/5] END max_depth=10, max_features=4, n_estimators=150;, score=0.224 total time=   0.3s\n",
            "[CV 2/5] END max_depth=10, max_features=4, n_estimators=150;, score=0.125 total time=   0.3s\n",
            "[CV 3/5] END max_depth=10, max_features=4, n_estimators=150;, score=0.208 total time=   0.3s\n",
            "[CV 4/5] END max_depth=10, max_features=4, n_estimators=150;, score=0.229 total time=   0.3s\n",
            "[CV 5/5] END max_depth=10, max_features=4, n_estimators=150;, score=0.208 total time=   0.3s\n",
            "[CV 1/5] END max_depth=10, max_features=7, n_estimators=3;, score=0.347 total time=   0.0s\n",
            "[CV 2/5] END max_depth=10, max_features=7, n_estimators=3;, score=0.271 total time=   0.0s\n",
            "[CV 3/5] END max_depth=10, max_features=7, n_estimators=3;, score=0.208 total time=   0.0s\n",
            "[CV 4/5] END max_depth=10, max_features=7, n_estimators=3;, score=0.375 total time=   0.0s\n",
            "[CV 5/5] END max_depth=10, max_features=7, n_estimators=3;, score=0.229 total time=   0.0s\n",
            "[CV 1/5] END max_depth=10, max_features=7, n_estimators=5;, score=0.265 total time=   0.0s\n",
            "[CV 2/5] END max_depth=10, max_features=7, n_estimators=5;, score=0.292 total time=   0.0s\n",
            "[CV 3/5] END max_depth=10, max_features=7, n_estimators=5;, score=0.188 total time=   0.0s\n",
            "[CV 4/5] END max_depth=10, max_features=7, n_estimators=5;, score=0.396 total time=   0.0s\n",
            "[CV 5/5] END max_depth=10, max_features=7, n_estimators=5;, score=0.271 total time=   0.0s\n",
            "[CV 1/5] END max_depth=10, max_features=7, n_estimators=10;, score=0.265 total time=   0.0s\n",
            "[CV 2/5] END max_depth=10, max_features=7, n_estimators=10;, score=0.188 total time=   0.0s\n",
            "[CV 3/5] END max_depth=10, max_features=7, n_estimators=10;, score=0.146 total time=   0.0s\n",
            "[CV 4/5] END max_depth=10, max_features=7, n_estimators=10;, score=0.312 total time=   0.0s\n",
            "[CV 5/5] END max_depth=10, max_features=7, n_estimators=10;, score=0.250 total time=   0.0s\n",
            "[CV 1/5] END max_depth=10, max_features=7, n_estimators=25;, score=0.204 total time=   0.1s\n",
            "[CV 2/5] END max_depth=10, max_features=7, n_estimators=25;, score=0.250 total time=   0.1s\n",
            "[CV 3/5] END max_depth=10, max_features=7, n_estimators=25;, score=0.250 total time=   0.1s\n",
            "[CV 4/5] END max_depth=10, max_features=7, n_estimators=25;, score=0.292 total time=   0.1s\n",
            "[CV 5/5] END max_depth=10, max_features=7, n_estimators=25;, score=0.167 total time=   0.1s\n",
            "[CV 1/5] END max_depth=10, max_features=7, n_estimators=50;, score=0.184 total time=   0.1s\n",
            "[CV 2/5] END max_depth=10, max_features=7, n_estimators=50;, score=0.271 total time=   0.1s\n",
            "[CV 3/5] END max_depth=10, max_features=7, n_estimators=50;, score=0.229 total time=   0.1s\n",
            "[CV 4/5] END max_depth=10, max_features=7, n_estimators=50;, score=0.333 total time=   0.1s\n",
            "[CV 5/5] END max_depth=10, max_features=7, n_estimators=50;, score=0.208 total time=   0.1s\n",
            "[CV 1/5] END max_depth=10, max_features=7, n_estimators=150;, score=0.163 total time=   0.3s\n",
            "[CV 2/5] END max_depth=10, max_features=7, n_estimators=150;, score=0.250 total time=   0.3s\n",
            "[CV 3/5] END max_depth=10, max_features=7, n_estimators=150;, score=0.188 total time=   0.3s\n",
            "[CV 4/5] END max_depth=10, max_features=7, n_estimators=150;, score=0.292 total time=   0.3s\n",
            "[CV 5/5] END max_depth=10, max_features=7, n_estimators=150;, score=0.250 total time=   0.3s\n",
            "[CV 1/5] END max_depth=10, max_features=15, n_estimators=3;, score=0.306 total time=   0.0s\n",
            "[CV 2/5] END max_depth=10, max_features=15, n_estimators=3;, score=0.271 total time=   0.0s\n",
            "[CV 3/5] END max_depth=10, max_features=15, n_estimators=3;, score=0.188 total time=   0.0s\n",
            "[CV 4/5] END max_depth=10, max_features=15, n_estimators=3;, score=0.333 total time=   0.0s\n",
            "[CV 5/5] END max_depth=10, max_features=15, n_estimators=3;, score=0.375 total time=   0.0s\n",
            "[CV 1/5] END max_depth=10, max_features=15, n_estimators=5;, score=0.265 total time=   0.0s\n",
            "[CV 2/5] END max_depth=10, max_features=15, n_estimators=5;, score=0.396 total time=   0.0s\n",
            "[CV 3/5] END max_depth=10, max_features=15, n_estimators=5;, score=0.229 total time=   0.0s\n",
            "[CV 4/5] END max_depth=10, max_features=15, n_estimators=5;, score=0.375 total time=   0.0s\n",
            "[CV 5/5] END max_depth=10, max_features=15, n_estimators=5;, score=0.396 total time=   0.0s\n",
            "[CV 1/5] END max_depth=10, max_features=15, n_estimators=10;, score=0.347 total time=   0.0s\n",
            "[CV 2/5] END max_depth=10, max_features=15, n_estimators=10;, score=0.292 total time=   0.0s\n",
            "[CV 3/5] END max_depth=10, max_features=15, n_estimators=10;, score=0.229 total time=   0.0s\n",
            "[CV 4/5] END max_depth=10, max_features=15, n_estimators=10;, score=0.354 total time=   0.0s\n",
            "[CV 5/5] END max_depth=10, max_features=15, n_estimators=10;, score=0.396 total time=   0.0s\n",
            "[CV 1/5] END max_depth=10, max_features=15, n_estimators=25;, score=0.347 total time=   0.1s\n",
            "[CV 2/5] END max_depth=10, max_features=15, n_estimators=25;, score=0.229 total time=   0.1s\n",
            "[CV 3/5] END max_depth=10, max_features=15, n_estimators=25;, score=0.271 total time=   0.1s\n",
            "[CV 4/5] END max_depth=10, max_features=15, n_estimators=25;, score=0.375 total time=   0.1s\n",
            "[CV 5/5] END max_depth=10, max_features=15, n_estimators=25;, score=0.375 total time=   0.1s\n",
            "[CV 1/5] END max_depth=10, max_features=15, n_estimators=50;, score=0.286 total time=   0.1s\n",
            "[CV 2/5] END max_depth=10, max_features=15, n_estimators=50;, score=0.312 total time=   0.1s\n",
            "[CV 3/5] END max_depth=10, max_features=15, n_estimators=50;, score=0.312 total time=   0.1s\n",
            "[CV 4/5] END max_depth=10, max_features=15, n_estimators=50;, score=0.417 total time=   0.1s\n",
            "[CV 5/5] END max_depth=10, max_features=15, n_estimators=50;, score=0.354 total time=   0.1s\n",
            "[CV 1/5] END max_depth=10, max_features=15, n_estimators=150;, score=0.265 total time=   0.4s\n",
            "[CV 2/5] END max_depth=10, max_features=15, n_estimators=150;, score=0.271 total time=   0.4s\n",
            "[CV 3/5] END max_depth=10, max_features=15, n_estimators=150;, score=0.333 total time=   0.4s\n",
            "[CV 4/5] END max_depth=10, max_features=15, n_estimators=150;, score=0.354 total time=   0.4s\n",
            "[CV 5/5] END max_depth=10, max_features=15, n_estimators=150;, score=0.292 total time=   0.4s\n",
            "[CV 1/5] END max_depth=10, max_features=20, n_estimators=3;, score=0.388 total time=   0.0s\n",
            "[CV 2/5] END max_depth=10, max_features=20, n_estimators=3;, score=0.333 total time=   0.0s\n",
            "[CV 3/5] END max_depth=10, max_features=20, n_estimators=3;, score=0.333 total time=   0.0s\n",
            "[CV 4/5] END max_depth=10, max_features=20, n_estimators=3;, score=0.375 total time=   0.0s\n",
            "[CV 5/5] END max_depth=10, max_features=20, n_estimators=3;, score=0.354 total time=   0.0s\n",
            "[CV 1/5] END max_depth=10, max_features=20, n_estimators=5;, score=0.408 total time=   0.0s\n",
            "[CV 2/5] END max_depth=10, max_features=20, n_estimators=5;, score=0.312 total time=   0.0s\n",
            "[CV 3/5] END max_depth=10, max_features=20, n_estimators=5;, score=0.375 total time=   0.0s\n",
            "[CV 4/5] END max_depth=10, max_features=20, n_estimators=5;, score=0.312 total time=   0.0s\n",
            "[CV 5/5] END max_depth=10, max_features=20, n_estimators=5;, score=0.354 total time=   0.0s\n",
            "[CV 1/5] END max_depth=10, max_features=20, n_estimators=10;, score=0.449 total time=   0.0s\n",
            "[CV 2/5] END max_depth=10, max_features=20, n_estimators=10;, score=0.250 total time=   0.0s\n",
            "[CV 3/5] END max_depth=10, max_features=20, n_estimators=10;, score=0.271 total time=   0.0s\n",
            "[CV 4/5] END max_depth=10, max_features=20, n_estimators=10;, score=0.271 total time=   0.0s\n",
            "[CV 5/5] END max_depth=10, max_features=20, n_estimators=10;, score=0.292 total time=   0.0s\n",
            "[CV 1/5] END max_depth=10, max_features=20, n_estimators=25;, score=0.347 total time=   0.1s\n",
            "[CV 2/5] END max_depth=10, max_features=20, n_estimators=25;, score=0.208 total time=   0.1s\n",
            "[CV 3/5] END max_depth=10, max_features=20, n_estimators=25;, score=0.208 total time=   0.1s\n",
            "[CV 4/5] END max_depth=10, max_features=20, n_estimators=25;, score=0.354 total time=   0.1s\n",
            "[CV 5/5] END max_depth=10, max_features=20, n_estimators=25;, score=0.271 total time=   0.1s\n",
            "[CV 1/5] END max_depth=10, max_features=20, n_estimators=50;, score=0.367 total time=   0.1s\n",
            "[CV 2/5] END max_depth=10, max_features=20, n_estimators=50;, score=0.188 total time=   0.1s\n",
            "[CV 3/5] END max_depth=10, max_features=20, n_estimators=50;, score=0.333 total time=   0.1s\n",
            "[CV 4/5] END max_depth=10, max_features=20, n_estimators=50;, score=0.354 total time=   0.1s\n",
            "[CV 5/5] END max_depth=10, max_features=20, n_estimators=50;, score=0.292 total time=   0.2s\n",
            "[CV 1/5] END max_depth=10, max_features=20, n_estimators=150;, score=0.306 total time=   0.4s\n",
            "[CV 2/5] END max_depth=10, max_features=20, n_estimators=150;, score=0.271 total time=   0.4s\n",
            "[CV 3/5] END max_depth=10, max_features=20, n_estimators=150;, score=0.333 total time=   0.4s\n",
            "[CV 4/5] END max_depth=10, max_features=20, n_estimators=150;, score=0.292 total time=   0.4s\n",
            "[CV 5/5] END max_depth=10, max_features=20, n_estimators=150;, score=0.292 total time=   0.4s\n",
            "[CV 1/5] END max_depth=None, max_features=4, n_estimators=3;, score=0.347 total time=   0.0s\n",
            "[CV 2/5] END max_depth=None, max_features=4, n_estimators=3;, score=0.312 total time=   0.0s\n",
            "[CV 3/5] END max_depth=None, max_features=4, n_estimators=3;, score=0.417 total time=   0.0s\n",
            "[CV 4/5] END max_depth=None, max_features=4, n_estimators=3;, score=0.500 total time=   0.0s\n",
            "[CV 5/5] END max_depth=None, max_features=4, n_estimators=3;, score=0.271 total time=   0.0s\n",
            "[CV 1/5] END max_depth=None, max_features=4, n_estimators=5;, score=0.306 total time=   0.0s\n",
            "[CV 2/5] END max_depth=None, max_features=4, n_estimators=5;, score=0.375 total time=   0.0s\n",
            "[CV 3/5] END max_depth=None, max_features=4, n_estimators=5;, score=0.438 total time=   0.0s\n",
            "[CV 4/5] END max_depth=None, max_features=4, n_estimators=5;, score=0.438 total time=   0.0s\n",
            "[CV 5/5] END max_depth=None, max_features=4, n_estimators=5;, score=0.250 total time=   0.0s\n",
            "[CV 1/5] END max_depth=None, max_features=4, n_estimators=10;, score=0.245 total time=   0.0s\n",
            "[CV 2/5] END max_depth=None, max_features=4, n_estimators=10;, score=0.229 total time=   0.0s\n",
            "[CV 3/5] END max_depth=None, max_features=4, n_estimators=10;, score=0.271 total time=   0.0s\n",
            "[CV 4/5] END max_depth=None, max_features=4, n_estimators=10;, score=0.312 total time=   0.0s\n",
            "[CV 5/5] END max_depth=None, max_features=4, n_estimators=10;, score=0.229 total time=   0.0s\n",
            "[CV 1/5] END max_depth=None, max_features=4, n_estimators=25;, score=0.286 total time=   0.1s\n",
            "[CV 2/5] END max_depth=None, max_features=4, n_estimators=25;, score=0.146 total time=   0.1s\n",
            "[CV 3/5] END max_depth=None, max_features=4, n_estimators=25;, score=0.250 total time=   0.1s\n",
            "[CV 4/5] END max_depth=None, max_features=4, n_estimators=25;, score=0.292 total time=   0.1s\n",
            "[CV 5/5] END max_depth=None, max_features=4, n_estimators=25;, score=0.250 total time=   0.1s\n",
            "[CV 1/5] END max_depth=None, max_features=4, n_estimators=50;, score=0.245 total time=   0.1s\n",
            "[CV 2/5] END max_depth=None, max_features=4, n_estimators=50;, score=0.146 total time=   0.1s\n",
            "[CV 3/5] END max_depth=None, max_features=4, n_estimators=50;, score=0.188 total time=   0.1s\n",
            "[CV 4/5] END max_depth=None, max_features=4, n_estimators=50;, score=0.271 total time=   0.1s\n",
            "[CV 5/5] END max_depth=None, max_features=4, n_estimators=50;, score=0.312 total time=   0.1s\n",
            "[CV 1/5] END max_depth=None, max_features=4, n_estimators=150;, score=0.224 total time=   0.3s\n",
            "[CV 2/5] END max_depth=None, max_features=4, n_estimators=150;, score=0.208 total time=   0.3s\n",
            "[CV 3/5] END max_depth=None, max_features=4, n_estimators=150;, score=0.188 total time=   0.3s\n",
            "[CV 4/5] END max_depth=None, max_features=4, n_estimators=150;, score=0.354 total time=   0.3s\n",
            "[CV 5/5] END max_depth=None, max_features=4, n_estimators=150;, score=0.188 total time=   0.3s\n",
            "[CV 1/5] END max_depth=None, max_features=7, n_estimators=3;, score=0.286 total time=   0.0s\n",
            "[CV 2/5] END max_depth=None, max_features=7, n_estimators=3;, score=0.354 total time=   0.0s\n",
            "[CV 3/5] END max_depth=None, max_features=7, n_estimators=3;, score=0.396 total time=   0.0s\n",
            "[CV 4/5] END max_depth=None, max_features=7, n_estimators=3;, score=0.438 total time=   0.0s\n",
            "[CV 5/5] END max_depth=None, max_features=7, n_estimators=3;, score=0.229 total time=   0.0s\n",
            "[CV 1/5] END max_depth=None, max_features=7, n_estimators=5;, score=0.286 total time=   0.0s\n",
            "[CV 2/5] END max_depth=None, max_features=7, n_estimators=5;, score=0.250 total time=   0.0s\n",
            "[CV 3/5] END max_depth=None, max_features=7, n_estimators=5;, score=0.292 total time=   0.0s\n",
            "[CV 4/5] END max_depth=None, max_features=7, n_estimators=5;, score=0.417 total time=   0.0s\n",
            "[CV 5/5] END max_depth=None, max_features=7, n_estimators=5;, score=0.208 total time=   0.0s\n",
            "[CV 1/5] END max_depth=None, max_features=7, n_estimators=10;, score=0.184 total time=   0.0s\n",
            "[CV 2/5] END max_depth=None, max_features=7, n_estimators=10;, score=0.208 total time=   0.0s\n",
            "[CV 3/5] END max_depth=None, max_features=7, n_estimators=10;, score=0.188 total time=   0.0s\n",
            "[CV 4/5] END max_depth=None, max_features=7, n_estimators=10;, score=0.333 total time=   0.0s\n",
            "[CV 5/5] END max_depth=None, max_features=7, n_estimators=10;, score=0.146 total time=   0.0s\n",
            "[CV 1/5] END max_depth=None, max_features=7, n_estimators=25;, score=0.286 total time=   0.1s\n",
            "[CV 2/5] END max_depth=None, max_features=7, n_estimators=25;, score=0.188 total time=   0.1s\n",
            "[CV 3/5] END max_depth=None, max_features=7, n_estimators=25;, score=0.292 total time=   0.1s\n",
            "[CV 4/5] END max_depth=None, max_features=7, n_estimators=25;, score=0.292 total time=   0.1s\n",
            "[CV 5/5] END max_depth=None, max_features=7, n_estimators=25;, score=0.208 total time=   0.1s\n",
            "[CV 1/5] END max_depth=None, max_features=7, n_estimators=50;, score=0.245 total time=   0.1s\n",
            "[CV 2/5] END max_depth=None, max_features=7, n_estimators=50;, score=0.208 total time=   0.1s\n",
            "[CV 3/5] END max_depth=None, max_features=7, n_estimators=50;, score=0.271 total time=   0.1s\n",
            "[CV 4/5] END max_depth=None, max_features=7, n_estimators=50;, score=0.333 total time=   0.1s\n",
            "[CV 5/5] END max_depth=None, max_features=7, n_estimators=50;, score=0.146 total time=   0.1s\n",
            "[CV 1/5] END max_depth=None, max_features=7, n_estimators=150;, score=0.245 total time=   0.3s\n",
            "[CV 2/5] END max_depth=None, max_features=7, n_estimators=150;, score=0.271 total time=   0.3s\n",
            "[CV 3/5] END max_depth=None, max_features=7, n_estimators=150;, score=0.229 total time=   0.3s\n",
            "[CV 4/5] END max_depth=None, max_features=7, n_estimators=150;, score=0.333 total time=   0.3s\n",
            "[CV 5/5] END max_depth=None, max_features=7, n_estimators=150;, score=0.292 total time=   0.3s\n",
            "[CV 1/5] END max_depth=None, max_features=15, n_estimators=3;, score=0.429 total time=   0.0s\n",
            "[CV 2/5] END max_depth=None, max_features=15, n_estimators=3;, score=0.292 total time=   0.0s\n",
            "[CV 3/5] END max_depth=None, max_features=15, n_estimators=3;, score=0.312 total time=   0.0s\n",
            "[CV 4/5] END max_depth=None, max_features=15, n_estimators=3;, score=0.479 total time=   0.0s\n",
            "[CV 5/5] END max_depth=None, max_features=15, n_estimators=3;, score=0.479 total time=   0.0s\n",
            "[CV 1/5] END max_depth=None, max_features=15, n_estimators=5;, score=0.408 total time=   0.0s\n",
            "[CV 2/5] END max_depth=None, max_features=15, n_estimators=5;, score=0.333 total time=   0.0s\n",
            "[CV 3/5] END max_depth=None, max_features=15, n_estimators=5;, score=0.333 total time=   0.0s\n",
            "[CV 4/5] END max_depth=None, max_features=15, n_estimators=5;, score=0.417 total time=   0.0s\n",
            "[CV 5/5] END max_depth=None, max_features=15, n_estimators=5;, score=0.479 total time=   0.0s\n",
            "[CV 1/5] END max_depth=None, max_features=15, n_estimators=10;, score=0.245 total time=   0.0s\n",
            "[CV 2/5] END max_depth=None, max_features=15, n_estimators=10;, score=0.271 total time=   0.0s\n",
            "[CV 3/5] END max_depth=None, max_features=15, n_estimators=10;, score=0.229 total time=   0.0s\n",
            "[CV 4/5] END max_depth=None, max_features=15, n_estimators=10;, score=0.312 total time=   0.0s\n",
            "[CV 5/5] END max_depth=None, max_features=15, n_estimators=10;, score=0.312 total time=   0.0s\n",
            "[CV 1/5] END max_depth=None, max_features=15, n_estimators=25;, score=0.347 total time=   0.1s\n",
            "[CV 2/5] END max_depth=None, max_features=15, n_estimators=25;, score=0.312 total time=   0.1s\n",
            "[CV 3/5] END max_depth=None, max_features=15, n_estimators=25;, score=0.271 total time=   0.1s\n",
            "[CV 4/5] END max_depth=None, max_features=15, n_estimators=25;, score=0.458 total time=   0.1s\n",
            "[CV 5/5] END max_depth=None, max_features=15, n_estimators=25;, score=0.354 total time=   0.1s\n",
            "[CV 1/5] END max_depth=None, max_features=15, n_estimators=50;, score=0.306 total time=   0.1s\n",
            "[CV 2/5] END max_depth=None, max_features=15, n_estimators=50;, score=0.271 total time=   0.1s\n",
            "[CV 3/5] END max_depth=None, max_features=15, n_estimators=50;, score=0.271 total time=   0.1s\n",
            "[CV 4/5] END max_depth=None, max_features=15, n_estimators=50;, score=0.396 total time=   0.1s\n",
            "[CV 5/5] END max_depth=None, max_features=15, n_estimators=50;, score=0.333 total time=   0.1s\n",
            "[CV 1/5] END max_depth=None, max_features=15, n_estimators=150;, score=0.286 total time=   0.4s\n",
            "[CV 2/5] END max_depth=None, max_features=15, n_estimators=150;, score=0.292 total time=   0.4s\n",
            "[CV 3/5] END max_depth=None, max_features=15, n_estimators=150;, score=0.333 total time=   0.4s\n",
            "[CV 4/5] END max_depth=None, max_features=15, n_estimators=150;, score=0.417 total time=   0.4s\n",
            "[CV 5/5] END max_depth=None, max_features=15, n_estimators=150;, score=0.333 total time=   0.4s\n",
            "[CV 1/5] END max_depth=None, max_features=20, n_estimators=3;, score=0.429 total time=   0.0s\n",
            "[CV 2/5] END max_depth=None, max_features=20, n_estimators=3;, score=0.292 total time=   0.0s\n",
            "[CV 3/5] END max_depth=None, max_features=20, n_estimators=3;, score=0.375 total time=   0.0s\n",
            "[CV 4/5] END max_depth=None, max_features=20, n_estimators=3;, score=0.417 total time=   0.0s\n",
            "[CV 5/5] END max_depth=None, max_features=20, n_estimators=3;, score=0.396 total time=   0.0s\n",
            "[CV 1/5] END max_depth=None, max_features=20, n_estimators=5;, score=0.449 total time=   0.0s\n",
            "[CV 2/5] END max_depth=None, max_features=20, n_estimators=5;, score=0.292 total time=   0.0s\n",
            "[CV 3/5] END max_depth=None, max_features=20, n_estimators=5;, score=0.354 total time=   0.0s\n",
            "[CV 4/5] END max_depth=None, max_features=20, n_estimators=5;, score=0.396 total time=   0.0s\n",
            "[CV 5/5] END max_depth=None, max_features=20, n_estimators=5;, score=0.333 total time=   0.0s\n",
            "[CV 1/5] END max_depth=None, max_features=20, n_estimators=10;, score=0.306 total time=   0.0s\n",
            "[CV 2/5] END max_depth=None, max_features=20, n_estimators=10;, score=0.188 total time=   0.0s\n",
            "[CV 3/5] END max_depth=None, max_features=20, n_estimators=10;, score=0.250 total time=   0.0s\n",
            "[CV 4/5] END max_depth=None, max_features=20, n_estimators=10;, score=0.354 total time=   0.0s\n",
            "[CV 5/5] END max_depth=None, max_features=20, n_estimators=10;, score=0.292 total time=   0.0s\n",
            "[CV 1/5] END max_depth=None, max_features=20, n_estimators=25;, score=0.306 total time=   0.1s\n",
            "[CV 2/5] END max_depth=None, max_features=20, n_estimators=25;, score=0.333 total time=   0.1s\n",
            "[CV 3/5] END max_depth=None, max_features=20, n_estimators=25;, score=0.292 total time=   0.1s\n",
            "[CV 4/5] END max_depth=None, max_features=20, n_estimators=25;, score=0.354 total time=   0.1s\n",
            "[CV 5/5] END max_depth=None, max_features=20, n_estimators=25;, score=0.417 total time=   0.1s\n",
            "[CV 1/5] END max_depth=None, max_features=20, n_estimators=50;, score=0.327 total time=   0.2s\n",
            "[CV 2/5] END max_depth=None, max_features=20, n_estimators=50;, score=0.292 total time=   0.1s\n",
            "[CV 3/5] END max_depth=None, max_features=20, n_estimators=50;, score=0.396 total time=   0.1s\n",
            "[CV 4/5] END max_depth=None, max_features=20, n_estimators=50;, score=0.312 total time=   0.1s\n",
            "[CV 5/5] END max_depth=None, max_features=20, n_estimators=50;, score=0.354 total time=   0.1s\n",
            "[CV 1/5] END max_depth=None, max_features=20, n_estimators=150;, score=0.306 total time=   0.4s\n",
            "[CV 2/5] END max_depth=None, max_features=20, n_estimators=150;, score=0.312 total time=   0.4s\n",
            "[CV 3/5] END max_depth=None, max_features=20, n_estimators=150;, score=0.292 total time=   0.4s\n",
            "[CV 4/5] END max_depth=None, max_features=20, n_estimators=150;, score=0.375 total time=   0.4s\n",
            "[CV 5/5] END max_depth=None, max_features=20, n_estimators=150;, score=0.375 total time=   0.4s\n"
          ]
        },
        {
          "output_type": "execute_result",
          "data": {
            "text/plain": [
              "GridSearchCV(cv=5, estimator=RandomForestClassifier(random_state=2),\n",
              "             param_grid={'max_depth': [3, 5, 7, 10, None],\n",
              "                         'max_features': [4, 7, 15, 20],\n",
              "                         'n_estimators': [3, 5, 10, 25, 50, 150]},\n",
              "             scoring='recall', verbose=4)"
            ]
          },
          "metadata": {},
          "execution_count": 22
        }
      ]
    },
    {
      "cell_type": "code",
      "source": [
        "print(grid_search.best_score_)          #printing best score\n",
        "print(grid_search.best_params_)"
      ],
      "metadata": {
        "colab": {
          "base_uri": "https://localhost:8080/"
        },
        "id": "8ErbkLqU3oDM",
        "outputId": "6068c6cf-042f-4366-e22f-f0dd28652226"
      },
      "execution_count": 23,
      "outputs": [
        {
          "output_type": "stream",
          "name": "stdout",
          "text": [
            "0.39821428571428574\n",
            "{'max_depth': None, 'max_features': 15, 'n_estimators': 3}\n"
          ]
        }
      ]
    },
    {
      "cell_type": "code",
      "source": [
        "rf = RandomForestClassifier(max_depth=None, max_features=10, n_estimators=15, random_state=2)  \n",
        "\n",
        "#trainning with the best params\n",
        "rf.fit(x_train, y_train)"
      ],
      "metadata": {
        "colab": {
          "base_uri": "https://localhost:8080/"
        },
        "id": "KbCar1MO3oBB",
        "outputId": "11fe08e1-c926-4608-e2fd-752f0fe27a52"
      },
      "execution_count": 24,
      "outputs": [
        {
          "output_type": "execute_result",
          "data": {
            "text/plain": [
              "RandomForestClassifier(max_features=10, n_estimators=15, random_state=2)"
            ]
          },
          "metadata": {},
          "execution_count": 24
        }
      ]
    },
    {
      "cell_type": "code",
      "source": [
        "#Testing the model \n",
        "#Predicting using our  model\n",
        "from sklearn.metrics import accuracy_score, confusion_matrix, classification_report, fbeta_score #To evaluate our model\n",
        "y_pred = rf.predict(x_test)\n",
        "\n",
        "# Verificaar os resultados obtidos\n",
        "print(accuracy_score(y_test,y_pred))\n",
        "print(\"\\n\")\n",
        "print(confusion_matrix(y_test, y_pred))\n",
        "print(\"\\n\")\n",
        "print(fbeta_score(y_test, y_pred, beta=2))"
      ],
      "metadata": {
        "colab": {
          "base_uri": "https://localhost:8080/"
        },
        "id": "nR37XN193n-Z",
        "outputId": "4ec56d2e-1a0c-48a7-8f11-bf10fabc414d"
      },
      "execution_count": 25,
      "outputs": [
        {
          "output_type": "stream",
          "name": "stdout",
          "text": [
            "0.695\n",
            "\n",
            "\n",
            "[[125  16]\n",
            " [ 45  14]]\n",
            "\n",
            "\n",
            "0.26315789473684215\n"
          ]
        }
      ]
    },
    {
      "cell_type": "markdown",
      "source": [
        "# very bad results from RandomForestClassifier we should use other algorithm"
      ],
      "metadata": {
        "id": "3c994q29EHtu"
      }
    },
    {
      "cell_type": "markdown",
      "source": [
        "# **we use DecsionTreeClassifier to train model**"
      ],
      "metadata": {
        "id": "3BFDb2gMMTqE"
      }
    },
    {
      "cell_type": "code",
      "source": [
        "from sklearn.utils import resample\n",
        "from sklearn.metrics import roc_curve"
      ],
      "metadata": {
        "id": "b4gJB7nl3n7u"
      },
      "execution_count": 26,
      "outputs": []
    },
    {
      "cell_type": "code",
      "source": [
        "CART=DecisionTreeClassifier()\n",
        "\n",
        "# Fitting with train data\n",
        "model = CART.fit(x_train, y_train)"
      ],
      "metadata": {
        "id": "oxGVl2s73n4-"
      },
      "execution_count": 27,
      "outputs": []
    },
    {
      "cell_type": "code",
      "source": [
        "print(\"Training score data: \")\n",
        "print(model.score(x_train, y_train))"
      ],
      "metadata": {
        "colab": {
          "base_uri": "https://localhost:8080/"
        },
        "id": "e4ej-cIL3n3b",
        "outputId": "6eec531e-8106-4473-ffea-95eee939762a"
      },
      "execution_count": 28,
      "outputs": [
        {
          "output_type": "stream",
          "name": "stdout",
          "text": [
            "Training score data: \n",
            "1.0\n"
          ]
        }
      ]
    },
    {
      "cell_type": "code",
      "source": [
        "y_pred = model.predict(x_test)\n",
        "\n",
        "print(accuracy_score(y_test,y_pred))\n",
        "print(\"\\n\")\n",
        "print(confusion_matrix(y_test, y_pred))\n",
        "print(\"\\n\")\n",
        "print(classification_report(y_test, y_pred))"
      ],
      "metadata": {
        "colab": {
          "base_uri": "https://localhost:8080/"
        },
        "id": "sEAj7vvk3npT",
        "outputId": "e3d5e395-8881-4a88-d6a6-cff323dcfd1b"
      },
      "execution_count": 29,
      "outputs": [
        {
          "output_type": "stream",
          "name": "stdout",
          "text": [
            "0.59\n",
            "\n",
            "\n",
            "[[96 45]\n",
            " [37 22]]\n",
            "\n",
            "\n",
            "              precision    recall  f1-score   support\n",
            "\n",
            "           0       0.72      0.68      0.70       141\n",
            "           1       0.33      0.37      0.35        59\n",
            "\n",
            "    accuracy                           0.59       200\n",
            "   macro avg       0.53      0.53      0.52       200\n",
            "weighted avg       0.61      0.59      0.60       200\n",
            "\n"
          ]
        }
      ]
    },
    {
      "cell_type": "markdown",
      "source": [
        "# from descisiontreeClassifer we get good results than  random forest"
      ],
      "metadata": {
        "id": "IyjqqTrwMyDl"
      }
    },
    {
      "cell_type": "markdown",
      "source": [
        "# **lets verify the roc curve to get better view**"
      ],
      "metadata": {
        "id": "5AtgCz-VNBWu"
      }
    },
    {
      "cell_type": "code",
      "source": [
        "#Predicting proba\n",
        "y_pred_prob = model.predict_proba(x_test)[:,1]\n",
        "\n",
        "# Generate ROC curve values: fpr, tpr, thresholds\n",
        "from sklearn.metrics import roc_curve, auc\n",
        "fpr, tpr, thresholds = roc_curve(y_test, y_pred_prob)\n",
        "\n",
        "# Plot ROC curve\n",
        "plt.plot([0, 1], [0, 1], 'k--')\n",
        "plt.plot(fpr, tpr)\n",
        "plt.xlabel('False Positive Rate')\n",
        "plt.ylabel('True Positive Rate')\n",
        "plt.title('ROC Curve')\n",
        "plt.show()"
      ],
      "metadata": {
        "colab": {
          "base_uri": "https://localhost:8080/",
          "height": 295
        },
        "id": "whlUCCqp4_xn",
        "outputId": "62fec633-65a0-4de9-847f-0dad741ff9aa"
      },
      "execution_count": 30,
      "outputs": [
        {
          "output_type": "display_data",
          "data": {
            "text/plain": [
              "<Figure size 432x288 with 1 Axes>"
            ],
            "image/png": "[encoded data removed]"
          },
          "metadata": {
            "needs_background": "light"
          }
        }
      ]
    },
    {
      "cell_type": "markdown",
      "source": [
        "# we are getting good results "
      ],
      "metadata": {
        "id": "JxJPJ8bcNSUH"
      }
    },
    {
      "cell_type": "code",
      "source": [
        "from sklearn.decomposition import PCA\n",
        "from sklearn.pipeline import Pipeline\n",
        "from sklearn.pipeline import FeatureUnion\n",
        "from sklearn.feature_selection import SelectKBest\n",
        "features = []\n",
        "features.append(('pca', PCA(n_components=2)))\n",
        "features.append(('select_best', SelectKBest(k=6)))\n",
        "feature_union = FeatureUnion(features)\n",
        "# create pipeline\n",
        "estimators = []\n",
        "estimators.append(('feature_union', feature_union))\n",
        "estimators.append(('logistic', DecisionTreeClassifier()))\n",
        "model = Pipeline(estimators)\n",
        "# evaluate pipeline\n",
        "seed = 7\n",
        "kfold = KFold(n_splits=10, random_state=None)\n",
        "results = cross_val_score(model, x_train, y_train, cv=kfold)\n",
        "print(results.mean())"
      ],
      "metadata": {
        "colab": {
          "base_uri": "https://localhost:8080/"
        },
        "id": "xgJDwruQ4_uC",
        "outputId": "0563a78f-2bb6-4db7-908f-9b57771ac0b9"
      },
      "execution_count": 31,
      "outputs": [
        {
          "output_type": "stream",
          "name": "stdout",
          "text": [
            "0.64625\n"
          ]
        }
      ]
    },
    {
      "cell_type": "code",
      "source": [
        "model.fit(x_train, y_train)\n",
        "y_pred = model.predict(x_test)\n",
        "\n",
        "print(accuracy_score(y_test,y_pred))\n",
        "print(\"\\n\")\n",
        "print(confusion_matrix(y_test, y_pred))\n",
        "print(\"\\n\")\n",
        "print(fbeta_score(y_test, y_pred, beta=2))"
      ],
      "metadata": {
        "colab": {
          "base_uri": "https://localhost:8080/"
        },
        "id": "i1f5xIhv4_r9",
        "outputId": "61f9b30a-0ae0-480c-f5e1-fedc531e867d"
      },
      "execution_count": 32,
      "outputs": [
        {
          "output_type": "stream",
          "name": "stdout",
          "text": [
            "0.59\n",
            "\n",
            "\n",
            "[[102  39]\n",
            " [ 43  16]]\n",
            "\n",
            "\n",
            "0.27491408934707906\n"
          ]
        }
      ]
    },
    {
      "cell_type": "markdown",
      "source": [
        "# we get low score from PCA"
      ],
      "metadata": {
        "id": "lI7uAwkaN5AX"
      }
    },
    {
      "cell_type": "markdown",
      "source": [
        "# **building model using XGBclassifier with hyper parameters to get best results**"
      ],
      "metadata": {
        "id": "yzkg5mlGNoug"
      }
    },
    {
      "cell_type": "code",
      "source": [
        "#Seting the Hyper Parameters\n",
        "param_test1 = {\n",
        " 'max_depth':[3,5,6,10],\n",
        " 'min_child_weight':[3,5,10],\n",
        " 'gamma':[0.0, 0.1, 0.2, 0.3, 0.4],\n",
        "# 'reg_alpha':[1e-5, 1e-2, 0.1, 1, 10],\n",
        " 'subsample':[i/100.0 for i in range(75,90,5)],\n",
        " 'colsample_bytree':[i/100.0 for i in range(75,90,5)]\n",
        "}\n",
        "\n",
        "#Creating the classifier\n",
        "model_xg = XGBClassifier(random_state=2)\n",
        "\n",
        "grid_search = GridSearchCV(model_xg, param_grid=param_test1, cv=5, scoring='recall')\n",
        "grid_search.fit(x_train, y_train)"
      ],
      "metadata": {
        "colab": {
          "base_uri": "https://localhost:8080/"
        },
        "id": "WDeVxLsM4_pK",
        "outputId": "5c1195c9-5b1d-435c-c080-f9cedd288bd7"
      },
      "execution_count": 33,
      "outputs": [
        {
          "output_type": "execute_result",
          "data": {
            "text/plain": [
              "GridSearchCV(cv=5, estimator=XGBClassifier(random_state=2),\n",
              "             param_grid={'colsample_bytree': [0.75, 0.8, 0.85],\n",
              "                         'gamma': [0.0, 0.1, 0.2, 0.3, 0.4],\n",
              "                         'max_depth': [3, 5, 6, 10],\n",
              "                         'min_child_weight': [3, 5, 10],\n",
              "                         'subsample': [0.75, 0.8, 0.85]},\n",
              "             scoring='recall')"
            ]
          },
          "metadata": {},
          "execution_count": 33
        }
      ]
    },
    {
      "cell_type": "code",
      "source": [
        "grid_search.best_score_\n",
        "grid_search.best_params_"
      ],
      "metadata": {
        "colab": {
          "base_uri": "https://localhost:8080/"
        },
        "id": "BRek5JSq8q2I",
        "outputId": "5c6f6c9e-e914-4a4f-f9cd-7f76f3c61110"
      },
      "execution_count": 34,
      "outputs": [
        {
          "output_type": "execute_result",
          "data": {
            "text/plain": [
              "{'colsample_bytree': 0.8,\n",
              " 'gamma': 0.2,\n",
              " 'max_depth': 6,\n",
              " 'min_child_weight': 3,\n",
              " 'subsample': 0.75}"
            ]
          },
          "metadata": {},
          "execution_count": 34
        }
      ]
    },
    {
      "cell_type": "markdown",
      "source": [
        "# ***Lets predict the output using XGBclassifier ***"
      ],
      "metadata": {
        "id": "RpxpnlXFOMp6"
      }
    },
    {
      "cell_type": "code",
      "source": [
        "y_pred = grid_search.predict(x_test)\n",
        "\n",
        "# Verificaar os resultados obtidos\n",
        "print(accuracy_score(y_test,y_pred))\n",
        "print(\"\\n\")\n",
        "print(confusion_matrix(y_test, y_pred))"
      ],
      "metadata": {
        "colab": {
          "base_uri": "https://localhost:8080/"
        },
        "id": "UnHAng0A8sB9",
        "outputId": "95b23769-e9ca-4a96-9623-dc691c936503"
      },
      "execution_count": 35,
      "outputs": [
        {
          "output_type": "stream",
          "name": "stdout",
          "text": [
            "0.725\n",
            "\n",
            "\n",
            "[[125  16]\n",
            " [ 39  20]]\n"
          ]
        }
      ]
    },
    {
      "cell_type": "markdown",
      "source": [
        "# we are getting best results from XGB"
      ],
      "metadata": {
        "id": "5THc_0FkOdwM"
      }
    },
    {
      "cell_type": "markdown",
      "source": [],
      "metadata": {
        "id": "3k4UYXJVOdYj"
      }
    }
  ]
}